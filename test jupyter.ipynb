{
 "cells": [
  {
   "cell_type": "code",
   "execution_count": 1,
   "metadata": {},
   "outputs": [],
   "source": [
    "import os\n",
    "import glob\n",
    "import unicodedata\n",
    "import pandas as pd\n",
    "import matplotlib as plt\n",
    "import matplotlib.pyplot as pltp\n",
    "import numpy as np\n",
    "import requests\n",
    "from sklearn.linear_model import LinearRegression\n",
    "import json\n",
    "import random\n",
    "import xml.etree.ElementTree as et\n",
    "from bs4 import BeautifulSoup"
   ]
  },
  {
   "cell_type": "code",
   "execution_count": 2,
   "metadata": {},
   "outputs": [
    {
     "name": "stdout",
     "output_type": "stream",
     "text": [
      "    0   1  2   3\n",
      "0   8  13  6   9\n",
      "1  10   7  3  13\n"
     ]
    }
   ],
   "source": [
    "def vector_add(a,b) :\n",
    "  a_dim = len(a.columns)\n",
    "  b_dim = len(b.columns)\n",
    "  if a_dim != b_dim :\n",
    "    print(\"Size mismatch\")\n",
    "  else : \n",
    "    c = a + b\n",
    "    print(c)\n",
    "\n",
    "x1 = pd.DataFrame([[1,4,2,3], [6,1,0,4]])\n",
    "x2 = pd.DataFrame([[7,9,4,6], [4,6,3,9]])\n",
    "\n",
    "\n",
    "vector_add(x1,x2)"
   ]
  },
  {
   "cell_type": "code",
   "execution_count": 3,
   "metadata": {},
   "outputs": [
    {
     "name": "stdout",
     "output_type": "stream",
     "text": [
      "    0   1\n",
      "0  40  72\n",
      "1  58  96\n"
     ]
    },
    {
     "name": "stderr",
     "output_type": "stream",
     "text": [
      "C:\\Users\\Owner\\AppData\\Local\\Temp\\ipykernel_8056\\3726080511.py:7: FutureWarning: Calling a ufunc on non-aligned DataFrames (or DataFrame/Series combination). Currently, the indices are ignored and the result takes the index/columns of the first DataFrame. In the future , the DataFrames/Series will be aligned before applying the ufunc.\n",
      "Convert one of the arguments to a NumPy array (eg 'ufunc(df1, np.asarray(df2)') to keep the current behaviour, or align manually (eg 'df1, df2 = df1.align(df2)') before passing to the ufunc to obtain the future behaviour and silence this warning.\n",
      "  c = np.matmul(a,b)\n"
     ]
    }
   ],
   "source": [
    "def vector_prob(a,b) :\n",
    "  a_dim = len(a.columns)\n",
    "  b_dim = len(b.index)\n",
    "  if a_dim != b_dim :\n",
    "    print(\"Size mismatch\")\n",
    "  else :\n",
    "    c = np.matmul(a,b)\n",
    "    print(c)\n",
    "\n",
    "x1 = pd.DataFrame([[1,4,2,3],\n",
    "                   [6,1,0,4]])\n",
    "x2 = pd.DataFrame([[7,9],\n",
    "                   [4,6],\n",
    "                   [4,6],\n",
    "                   [3,9]])\n",
    "\n",
    "x3 = pd.DataFrame([[7,9],\n",
    "                   [4,6],\n",
    "                   [4,6],\n",
    "                   [3,9]])\n",
    "\n",
    "vector_prob(x1,x2)\n"
   ]
  },
  {
   "cell_type": "code",
   "execution_count": 9,
   "metadata": {},
   "outputs": [
    {
     "data": {
      "text/plain": [
       "[-0.10526315789473684,\n",
       " 1.631578947368421,\n",
       " -0.0010964912280701758,\n",
       " -2.4671052631578942]"
      ]
     },
     "execution_count": 9,
     "metadata": {},
     "output_type": "execute_result"
    }
   ],
   "source": [
    "import pandas as pd\n",
    "import numpy as np\n",
    "import requests\n",
    "\n",
    "def lu_decomp(mat) :\n",
    "   rows, cols = np.shape(mat)\n",
    "   if rows < cols :\n",
    "     s = rows\n",
    "     l = cols\n",
    "   else :\n",
    "     s = cols\n",
    "     l = rows\n",
    "   for k in range(0,s) :\n",
    "     x = 1.0 / mat[k,k]\n",
    "     for i in range(k+1,rows) :\n",
    "       mat[i,k] = mat[i,k] * x\n",
    "     for i in range(k+1,rows) :\n",
    "        for j in range(k+1,cols) :\n",
    "          mat[i,j] = mat[i,j] - mat[i,k] * mat[k,j]\n",
    "   return(mat)\n",
    "\n",
    "\n",
    "\n",
    "def fst_equ(ma, y) :\n",
    "  row, col = np.shape(ma)\n",
    "  mat_1 = lu_decomp(ma)\n",
    "  z = []\n",
    "  x = []\n",
    "  if (row != col)|(row != len(y)) :\n",
    "    print(\"Inapproporiate type marrix\")\n",
    "  else : \n",
    "    mat_2 = np.zeros((row, col))\n",
    "    mat_3 = np.zeros((row, col))\n",
    "\n",
    "    for i in range(row) :\n",
    "      mat_2[i,i] = 1\n",
    "      for j in range(i,col) :\n",
    "        mat_3[i,j] = mat_1[i,j]\n",
    "\n",
    "    for i in range(1,row) :\n",
    "      for j in range(i) :\n",
    "        mat_2[i,j] = mat_1[i,j]\n",
    "        \n",
    "    #z value\n",
    "    z.append(y[0])\n",
    "    for i in range(1,row) :\n",
    "      a = y[i]\n",
    "      for j in range(i) :\n",
    "        a -= z[i-1]*mat_2[i,j]\n",
    "      z.append(a)\n",
    "\n",
    "    x.append(z[0]/mat_3[row-1,col-1])\n",
    "\n",
    "    for i in range(1,row) :\n",
    "      b = z[row-1-i]\n",
    "      for j in range(i) :\n",
    "        b += -x[j]*mat_3[row-1-i,col-j-1]\n",
    "        b = b/mat_3[row-i-1,col-i-1]\n",
    "      x.append(b)\n",
    "    return(x)\n",
    "\n",
    "\n",
    "\n",
    "sam_mat = np.array([[1,6,3,4],\n",
    "                    [3,6,9,1],\n",
    "                    [2,7,5,2],\n",
    "                    [2,3,8,1]])\n",
    "sam_y = np.array([2,7,1,9])\n",
    "\n",
    "fst_equ(sam_mat, sam_y)"
   ]
  },
  {
   "attachments": {},
   "cell_type": "markdown",
   "metadata": {},
   "source": [
    "Calculation Function to execute LU"
   ]
  },
  {
   "cell_type": "code",
   "execution_count": 13,
   "metadata": {},
   "outputs": [
    {
     "data": {
      "text/plain": [
       "[1, 1, 2, 3, 5, 8, 13, 21, 34, 55]"
      ]
     },
     "execution_count": 13,
     "metadata": {},
     "output_type": "execute_result"
    }
   ],
   "source": [
    "def fibo() :\n",
    "    h1 = 1\n",
    "    fibo_seq = []\n",
    "    howmuch = int(input(\"Enter the Number : \"))\n",
    "    for i in range(howmuch) :\n",
    "        fibo_seq.append(h1)\n",
    "        if i == 0 :\n",
    "            h1 = h1\n",
    "        else : h1 += fibo_seq[i-1]\n",
    "    return(fibo_seq)\n",
    "\n",
    "fibo()"
   ]
  },
  {
   "cell_type": "code",
   "execution_count": 38,
   "metadata": {},
   "outputs": [
    {
     "name": "stdout",
     "output_type": "stream",
     "text": [
      "['a' 'b' 'c'] [2 2 1]\n"
     ]
    }
   ],
   "source": [
    "a = np.ones((3,3))\n",
    "b = np.zeros((3,2))\n",
    "c = np.arange(10,160,10)\n",
    "c = np.reshape(c, (3,5))\n",
    "\n",
    "d = np.c_[a,b]\n",
    "e = np.r_[d,c]\n",
    "\n",
    "f = np.tile(e, (2,1))\n",
    "f\n",
    "\n",
    "x = np.vstack([range(7)[i:i + 3] for i in range(5)])\n",
    "x\n",
    "\n",
    "a = np.array([[  1,    2,    3,    4],\n",
    "              [ 46,   99,  100,   71],\n",
    "              [ 81,   59,   90,  100]])\n",
    "ranking = np.argsort(a[1,:])\n",
    "a[:, ranking]\n",
    "\n",
    "np.random.randint(0,2,10)\n",
    "np.mean(np.random.randint(1,7,100))\n",
    "10000*(1+(1/100)*np.random.randn(100))\n",
    "\n",
    "a = np.array(['a', 'b', 'b', 'c', 'a'])\n",
    "index, count = np.unique(a, return_counts=True)\n",
    "print(index, count)"
   ]
  },
  {
   "attachments": {},
   "cell_type": "markdown",
   "metadata": {},
   "source": [
    "Above thing is just a practice for treating matrix"
   ]
  },
  {
   "cell_type": "code",
   "execution_count": 23,
   "metadata": {},
   "outputs": [
    {
     "data": {
      "text/html": [
       "<div>\n",
       "<style scoped>\n",
       "    .dataframe tbody tr th:only-of-type {\n",
       "        vertical-align: middle;\n",
       "    }\n",
       "\n",
       "    .dataframe tbody tr th {\n",
       "        vertical-align: top;\n",
       "    }\n",
       "\n",
       "    .dataframe thead th {\n",
       "        text-align: right;\n",
       "    }\n",
       "</style>\n",
       "<table border=\"1\" class=\"dataframe\">\n",
       "  <thead>\n",
       "    <tr style=\"text-align: right;\">\n",
       "      <th>Characters</th>\n",
       "      <th>지역</th>\n",
       "      <th>2015</th>\n",
       "      <th>2010</th>\n",
       "      <th>2005</th>\n",
       "      <th>2000</th>\n",
       "      <th>2010-2015 증가율</th>\n",
       "    </tr>\n",
       "    <tr>\n",
       "      <th>City</th>\n",
       "      <th></th>\n",
       "      <th></th>\n",
       "      <th></th>\n",
       "      <th></th>\n",
       "      <th></th>\n",
       "      <th></th>\n",
       "    </tr>\n",
       "  </thead>\n",
       "  <tbody>\n",
       "    <tr>\n",
       "      <th>서울</th>\n",
       "      <td>수도권</td>\n",
       "      <td>9904312</td>\n",
       "      <td>9631482</td>\n",
       "      <td>9762546</td>\n",
       "      <td>9853972</td>\n",
       "      <td>0.0283</td>\n",
       "    </tr>\n",
       "    <tr>\n",
       "      <th>부산</th>\n",
       "      <td>경상권</td>\n",
       "      <td>3448737</td>\n",
       "      <td>3393191</td>\n",
       "      <td>3512547</td>\n",
       "      <td>3655437</td>\n",
       "      <td>0.0163</td>\n",
       "    </tr>\n",
       "    <tr>\n",
       "      <th>인천</th>\n",
       "      <td>수도권</td>\n",
       "      <td>2890451</td>\n",
       "      <td>2632035</td>\n",
       "      <td>2517680</td>\n",
       "      <td>2466338</td>\n",
       "      <td>0.0982</td>\n",
       "    </tr>\n",
       "    <tr>\n",
       "      <th>대구</th>\n",
       "      <td>경상권</td>\n",
       "      <td>2466052</td>\n",
       "      <td>2431774</td>\n",
       "      <td>2456016</td>\n",
       "      <td>2473990</td>\n",
       "      <td>0.0141</td>\n",
       "    </tr>\n",
       "  </tbody>\n",
       "</table>\n",
       "</div>"
      ],
      "text/plain": [
       "Characters   지역     2015     2010     2005     2000  2010-2015 증가율\n",
       "City                                                              \n",
       "서울          수도권  9904312  9631482  9762546  9853972         0.0283\n",
       "부산          경상권  3448737  3393191  3512547  3655437         0.0163\n",
       "인천          수도권  2890451  2632035  2517680  2466338         0.0982\n",
       "대구          경상권  2466052  2431774  2456016  2473990         0.0141"
      ]
     },
     "execution_count": 23,
     "metadata": {},
     "output_type": "execute_result"
    }
   ],
   "source": [
    "s = pd.Series([9904312, 3448737, 2890451, 2466052],\n",
    "          index=[\"Seoul\", \"Busan\", \"Incheon\", \"Daegu\"])\n",
    "s.name = \"Population\"\n",
    "s.index.name = \"City\"\n",
    "\n",
    "s2 = pd.Series({\"Seoul\": 9631482, \"Busan\": 3393191,\n",
    "                \"Incheon\": 2632035, \"Daegu\": 1490158}, \n",
    "                index = [\"Incheon\", \"Busan\", \"Seoul\", \"Daegu\"])\n",
    "\n",
    "s2[\"Daejeon\"] = 1490158\n",
    "\n",
    "del s2[\"Daegu\"]\n",
    "\n",
    "data = {\n",
    "    \"2015\": [9904312, 3448737, 2890451, 2466052],\n",
    "    \"2010\": [9631482, 3393191, 2632035, 2431774],\n",
    "    \"2005\": [9762546, 3512547, 2517680, 2456016],\n",
    "    \"2000\": [9853972, 3655437, 2466338, 2473990],\n",
    "    \"Region\": [\"Capital\", \"Gyeongsang\", \"Capital\", \"Gyeongsang\"],\n",
    "    \"2010-2015 Increase Rate\": [0.0283, 0.0163, 0.0982, 0.0141]\n",
    "}\n",
    "columns = [\"Region\", \"2015\", \"2010\", \"2005\", \"2000\", \"2010-2015 Increase Rate\"]\n",
    "index = [\"Seoul\", \"Busan\", \"Incheon\", \"Daegu\"]\n",
    "df_test = pd.DataFrame(data, index=index, columns=columns)\n",
    "\n",
    "df_test.index.name = \"City\"\n",
    "df_test.columns.name = \"Characters\"\n",
    "df_test\n"
   ]
  },
  {
   "cell_type": "code",
   "execution_count": 16,
   "metadata": {},
   "outputs": [
    {
     "data": {
      "text/html": [
       "<div>\n",
       "<style scoped>\n",
       "    .dataframe tbody tr th:only-of-type {\n",
       "        vertical-align: middle;\n",
       "    }\n",
       "\n",
       "    .dataframe tbody tr th {\n",
       "        vertical-align: top;\n",
       "    }\n",
       "\n",
       "    .dataframe thead th {\n",
       "        text-align: right;\n",
       "    }\n",
       "</style>\n",
       "<table border=\"1\" class=\"dataframe\">\n",
       "  <thead>\n",
       "    <tr style=\"text-align: right;\">\n",
       "      <th></th>\n",
       "      <th>sepal_length</th>\n",
       "      <th>sepal_width</th>\n",
       "      <th>petal_length</th>\n",
       "      <th>petal_width</th>\n",
       "    </tr>\n",
       "    <tr>\n",
       "      <th>species</th>\n",
       "      <th></th>\n",
       "      <th></th>\n",
       "      <th></th>\n",
       "      <th></th>\n",
       "    </tr>\n",
       "  </thead>\n",
       "  <tbody>\n",
       "    <tr>\n",
       "      <th>setosa</th>\n",
       "      <td>5.006</td>\n",
       "      <td>3.428</td>\n",
       "      <td>1.462</td>\n",
       "      <td>0.246</td>\n",
       "    </tr>\n",
       "    <tr>\n",
       "      <th>versicolor</th>\n",
       "      <td>5.936</td>\n",
       "      <td>2.770</td>\n",
       "      <td>4.260</td>\n",
       "      <td>1.326</td>\n",
       "    </tr>\n",
       "    <tr>\n",
       "      <th>virginica</th>\n",
       "      <td>6.588</td>\n",
       "      <td>2.974</td>\n",
       "      <td>5.552</td>\n",
       "      <td>2.026</td>\n",
       "    </tr>\n",
       "  </tbody>\n",
       "</table>\n",
       "</div>"
      ],
      "text/plain": [
       "            sepal_length  sepal_width  petal_length  petal_width\n",
       "species                                                         \n",
       "setosa             5.006        3.428         1.462        0.246\n",
       "versicolor         5.936        2.770         4.260        1.326\n",
       "virginica          6.588        2.974         5.552        2.026"
      ]
     },
     "execution_count": 16,
     "metadata": {},
     "output_type": "execute_result"
    }
   ],
   "source": [
    "ages = [0,2,10,21,23,37, 31, 61, 20, 41, 32, 101]\n",
    "bins = [1, 20, 30, 50, 70, 100]\n",
    "labels = [\"미성년자\", \"청년\", \"중년\", \"장년\", \"노년\"]\n",
    "cats = pd.cut(ages, bins, labels=labels)\n",
    "\n",
    "df = pd.DataFrame(ages, columns=[\"ages\"])\n",
    "df[\"age_cat\"] = pd.cut(df.ages, bins, labels = labels)\n",
    "\n",
    "np.random.seed(0)\n",
    "df2 = pd.DataFrame({'key1': ['A', 'A', 'B', 'B', 'A'],\n",
    "                    'key2': ['one', 'two', 'one', 'two', 'one'],\n",
    "                    'data1': [1, 2, 3, 4, 5],\n",
    "                    'data2': [10, 20, 30, 40, 50]})\n",
    "\n",
    "groups = df2.groupby(df2.key1)['data1'].sum()\n",
    "groups2 = df2.data1.groupby([df2.key1, df2.key2]).sum()\n",
    "\n",
    "import seaborn as sns\n",
    "\n",
    "iris = sns.load_dataset(\"iris\")\n",
    "\n",
    "def peak_to_peak_ratio(x):\n",
    "    return x.max() / x.min()\n",
    "\n",
    "iris.groupby(iris.species).agg(peak_to_peak_ratio)\n",
    "\n",
    "def top3_petal_length(df):\n",
    "    return df.sort_values(by=\"petal_length\", ascending=False)[:3]\n",
    "\n",
    "iris.groupby(iris.species).apply(top3_petal_length)\n",
    "\n",
    "iris.groupby(iris.species).mean()"
   ]
  },
  {
   "cell_type": "code",
   "execution_count": 11,
   "metadata": {},
   "outputs": [
    {
     "data": {
      "image/png": "[encoded data removed]",
      "text/plain": [
       "<Figure size 640x480 with 1 Axes>"
      ]
     },
     "metadata": {},
     "output_type": "display_data"
    },
    {
     "data": {
      "image/png": "[encoded data removed]",
      "text/plain": [
       "<Figure size 640x480 with 1 Axes>"
      ]
     },
     "metadata": {},
     "output_type": "display_data"
    },
    {
     "name": "stderr",
     "output_type": "stream",
     "text": [
      "C:\\Users\\Owner\\AppData\\Local\\Temp\\ipykernel_496\\3341462628.py:49: DeprecationWarning: `np.int` is a deprecated alias for the builtin `int`. To silence this warning, use `int` by itself. Doing this will not modify any behavior and is safe. When replacing `np.int`, you may wish to use e.g. `np.int64` or `np.int32` to specify the precision. If you wish to review your current use, check the release note link for additional information.\n",
      "Deprecated in NumPy 1.20; for more details and guidance: https://numpy.org/devdocs/release/1.20.0-notes.html#deprecations\n",
      "  return np.array(x > 0 , dtype = np.int)\n"
     ]
    },
    {
     "data": {
      "image/png": "[encoded data removed]",
      "text/plain": [
       "<Figure size 640x480 with 1 Axes>"
      ]
     },
     "metadata": {},
     "output_type": "display_data"
    }
   ],
   "source": [
    "import pandas as pd\n",
    "import matplotlib as plt\n",
    "import matplotlib.pylab as plt2\n",
    "import numpy as np\n",
    "\n",
    "def AND(x1,x2) :\n",
    "    b = -0.7\n",
    "    if ((x1!=1)&(x1!=0))|((x2!=1)&(x2!=0)) :\n",
    "        print(\"invalid input\")\n",
    "    else :\n",
    "        w = np.array([0.5, 0.5])\n",
    "        x = np.array([x1,x2])\n",
    "        std = np.sum(w*x) + b\n",
    "        if std > 0 :\n",
    "            return(1)\n",
    "        else : return(0)\n",
    "\n",
    "def OR(x1,x2) :\n",
    "    b = -0.2\n",
    "    if ((x1!=1)&(x1!=0))|((x2!=1)&(x2!=0)) :\n",
    "        print(\"invalid input\")\n",
    "    else :\n",
    "        w = np.array([0.5, 0.5])\n",
    "        x = np.array([x1,x2])\n",
    "        std = np.sum(w*x) + b\n",
    "        if std > 0 :\n",
    "            return(1)\n",
    "        else : return(0)\n",
    "\n",
    "def NAND(x1,x2) :\n",
    "    b = -0.7\n",
    "    if ((x1!=1)&(x1!=0))|((x2!=1)&(x2!=0)) :\n",
    "        print(\"invalid input\")\n",
    "    else :\n",
    "        w = np.array([0.5, 0.5])\n",
    "        x = np.array([x1,x2])\n",
    "        std = -(np.sum(w*x) + b)\n",
    "        if std > 0 :\n",
    "            return(1)\n",
    "        else : return(0)\n",
    "\n",
    "def XOR(x1, x2) :\n",
    "    a = NAND(x1, x2)\n",
    "    b = OR(x1,x2)\n",
    "    c = AND(a,b)\n",
    "    return c\n",
    "\n",
    "def step_function(x) :\n",
    "    return np.array(x > 0 , dtype = np.int)\n",
    "\n",
    "def sigmoid(x) : \n",
    "    return 1/(1+np.exp(-x))\n",
    "\n",
    "def relu(x) : \n",
    "    return np.maximum(0,x)\n",
    "\n",
    "x1 = np.arange(-5.0, 5.0, 0.1)\n",
    "\n",
    "plt2.plot(x1,relu(x1))\n",
    "plt2.ylim(-0.1, 5.0)\n",
    "plt2.show()\n",
    "\n",
    "plt2.plot(x1,sigmoid(x1))\n",
    "plt2.ylim(-0.1, 1.1)\n",
    "plt2.show()\n",
    "\n",
    "plt2.plot(x1,step_function(x1))\n",
    "plt2.ylim(-0.1, 1.1)\n",
    "plt2.show()"
   ]
  },
  {
   "cell_type": "code",
   "execution_count": 18,
   "metadata": {},
   "outputs": [
    {
     "data": {
      "text/plain": [
       "array([1.61857985, 1.15911864])"
      ]
     },
     "execution_count": 18,
     "metadata": {},
     "output_type": "execute_result"
    }
   ],
   "source": [
    "def st_fr(X) :\n",
    "    W1 = np.array([[0.1, 0.3, 0.6],\n",
    "                   [0.4, 0.1, 0.6]])\n",
    "    B1 = np.array([0.3,0.6,0.1])\n",
    "    if len(X) != 2 :\n",
    "        return print(\"Incorrect data set\")\n",
    "    else : \n",
    "        A1 = np.dot(X, W1) + B1\n",
    "        Y1 = sigmoid(A1)\n",
    "    W2 = np.array([[0.1, 0.3],\n",
    "                   [0.4, 0.1],\n",
    "                   [0.9, 0.2]])\n",
    "    B2 = np.array([0.3,0.6])\n",
    "    A2 = np.dot(Y1, W2) + B2\n",
    "    Y2 = relu(A2)\n",
    "    W3 = np.array([[0.8, 0.9],\n",
    "                   [0.3, 0.2]])\n",
    "    B3 = np.array([0.3,-0.4])\n",
    "    A3 = np.dot(Y2, W3) + B3\n",
    "    Y3 = sigmoid(A3)\n",
    "    return Y2\n",
    "\n",
    "test_x = np.array([2,5])\n",
    "st_fr(test_x)"
   ]
  },
  {
   "cell_type": "code",
   "execution_count": 19,
   "metadata": {},
   "outputs": [
    {
     "data": {
      "text/plain": [
       "array([0.61288635, 0.38711365])"
      ]
     },
     "execution_count": 19,
     "metadata": {},
     "output_type": "execute_result"
    }
   ],
   "source": [
    "def soft_max(a) :\n",
    "    exa = np.exp(a)\n",
    "    y = exa / sum(exa)\n",
    "    return y\n"
   ]
  }
 ],
 "metadata": {
  "kernelspec": {
   "display_name": "base",
   "language": "python",
   "name": "python3"
  },
  "language_info": {
   "codemirror_mode": {
    "name": "ipython",
    "version": 3
   },
   "file_extension": ".py",
   "mimetype": "text/x-python",
   "name": "python",
   "nbconvert_exporter": "python",
   "pygments_lexer": "ipython3",
   "version": "3.9.13"
  },
  "orig_nbformat": 4,
  "vscode": {
   "interpreter": {
    "hash": "585a938ec471c889bf0cce0aed741a99eaf47ca09c0fa8393793bc5bfe77ba11"
   }
  }
 },
 "nbformat": 4,
 "nbformat_minor": 2
}
