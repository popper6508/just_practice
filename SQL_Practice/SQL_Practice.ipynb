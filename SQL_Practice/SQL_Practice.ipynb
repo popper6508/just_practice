{
 "cells": [
  {
   "attachments": {},
   "cell_type": "markdown",
   "metadata": {},
   "source": [
    "- 정형 데이터 => 관계형 데이터베이스 관리 시스템(RDBMS)\n",
    "- 여러가지 테이블 존재 - 마스터 데이터 + 로그 데이터 + 설명 데이터 등"
   ]
  },
  {
   "cell_type": "code",
   "execution_count": 3,
   "metadata": {},
   "outputs": [],
   "source": [
    "import sqlite3\n",
    "import pandas as pd"
   ]
  },
  {
   "cell_type": "code",
   "execution_count": 4,
   "metadata": {},
   "outputs": [],
   "source": [
    "connection = sqlite3.connect('./sqlite/chinook.db')\n",
    "query = \"SELECT * FROM sqlite_master\" ##SELECT : data select## sQL grammar\n",
    "##SELECT (Call) INSERT(Add) UPDATE DELETE(Not often use)\n",
    "database_table = pd.read_sql_query(query, connection)"
   ]
  },
  {
   "cell_type": "code",
   "execution_count": null,
   "metadata": {},
   "outputs": [],
   "source": [
    "database_table['sql'] ##INDEX"
   ]
  },
  {
   "cell_type": "code",
   "execution_count": null,
   "metadata": {},
   "outputs": [],
   "source": [
    "query2 = \"SELECT * FROM 'customers'\"\n",
    "database_customers = pd.read_sql_query(query2, connection)"
   ]
  },
  {
   "cell_type": "code",
   "execution_count": null,
   "metadata": {},
   "outputs": [],
   "source": [
    "query3 = \"SELECT * FROM 'invoices'\"\n",
    "database_invoices = pd.read_sql_query(query3, connection)\n",
    "\n",
    "query4 = \"SELECT * FROM 'invoices' WHERE BillingCountry='Germany'\" ## WHERE\n",
    "database_invoices2 = pd.read_sql_query(query4, connection)\n",
    "database_invoices2"
   ]
  },
  {
   "cell_type": "code",
   "execution_count": 6,
   "metadata": {},
   "outputs": [],
   "source": [
    "connection = sqlite3.connect('./sqlite/chinook.db')\n",
    "curcor = connection.cursor()"
   ]
  },
  {
   "cell_type": "code",
   "execution_count": 7,
   "metadata": {},
   "outputs": [
    {
     "data": {
      "text/plain": [
       "<sqlite3.Cursor at 0x17c7fe39ce0>"
      ]
     },
     "execution_count": 7,
     "metadata": {},
     "output_type": "execute_result"
    }
   ],
   "source": [
    "curcor.execute(\"DROP TABLE IF EXISTS tblAddr\")\n",
    "curcor.execute(\"\"\"CREATE TABLE tblAddr\n",
    "                (name CHAR(16) PRIMARY KEY, Phine CHAR(16), addr TEXT)\"\"\")"
   ]
  },
  {
   "cell_type": "code",
   "execution_count": 8,
   "metadata": {},
   "outputs": [
    {
     "data": {
      "text/plain": [
       "<sqlite3.Cursor at 0x17c7fe39ce0>"
      ]
     },
     "execution_count": 8,
     "metadata": {},
     "output_type": "execute_result"
    }
   ],
   "source": [
    "curcor.execute(\"INSERT INTO tblAddr VALUES ('김상형', '123-4567', '오산')\")\n",
    "curcor.execute(\"INSERT INTO tblAddr VALUES ('한경은', '444-1004', '수원')\")\n",
    "curcor.execute(\"INSERT INTO tblAddr VALUES ('한주완', '143-1092', '대전')\")"
   ]
  },
  {
   "cell_type": "code",
   "execution_count": 9,
   "metadata": {},
   "outputs": [],
   "source": [
    "connection.commit()"
   ]
  },
  {
   "cell_type": "code",
   "execution_count": 13,
   "metadata": {},
   "outputs": [
    {
     "name": "stdout",
     "output_type": "stream",
     "text": [
      "Name : 김상형, Phone : 123-4567, Address : 오산\n",
      "Name : 한경은, Phone : 444-1004, Address : 수원\n",
      "Name : 한주완, Phone : 143-1092, Address : 대전\n"
     ]
    }
   ],
   "source": [
    "xdata = curcor.execute(\"SELECT * FROM tblAddr\")\n",
    "table = curcor.fetchall()\n",
    "for i in table :\n",
    "    print(\"Name : %s, Phone : %s, Address : %s\" % i)"
   ]
  },
  {
   "cell_type": "code",
   "execution_count": 8,
   "metadata": {},
   "outputs": [
    {
     "data": {
      "text/plain": [
       "<sqlite3.Cursor at 0x21ed3c731f0>"
      ]
     },
     "execution_count": 8,
     "metadata": {},
     "output_type": "execute_result"
    }
   ],
   "source": [
    "curcor.execute(\"UPDATE tblAddr SET addr = '제주도' WHERE name = '김상형'\")"
   ]
  },
  {
   "cell_type": "code",
   "execution_count": 9,
   "metadata": {},
   "outputs": [
    {
     "name": "stdout",
     "output_type": "stream",
     "text": [
      "Name : 김상형, Phone : 123-4567, Address : 제주도\n",
      "Name : 한경은, Phone : 444-1004, Address : 수원\n",
      "Name : 한주완, Phone : 143-1092, Address : 대전\n"
     ]
    }
   ],
   "source": [
    "curcor.execute(\"SELECT * FROM tblAddr\")\n",
    "table = curcor.fetchall()\n",
    "for i in table :\n",
    "    print(\"Name : %s, Phone : %s, Address : %s\" % i)"
   ]
  }
 ],
 "metadata": {
  "kernelspec": {
   "display_name": "base",
   "language": "python",
   "name": "python3"
  },
  "language_info": {
   "codemirror_mode": {
    "name": "ipython",
    "version": 3
   },
   "file_extension": ".py",
   "mimetype": "text/x-python",
   "name": "python",
   "nbconvert_exporter": "python",
   "pygments_lexer": "ipython3",
   "version": "3.9.13"
  },
  "orig_nbformat": 4
 },
 "nbformat": 4,
 "nbformat_minor": 2
}
