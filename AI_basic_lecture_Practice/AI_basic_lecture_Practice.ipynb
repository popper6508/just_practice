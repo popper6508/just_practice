{
 "cells": [
  {
   "attachments": {},
   "cell_type": "markdown",
   "metadata": {},
   "source": [
    "## AI using and Basic"
   ]
  },
  {
   "attachments": {},
   "cell_type": "markdown",
   "metadata": {},
   "source": [
    "### 필요모듈"
   ]
  },
  {
   "cell_type": "code",
   "execution_count": 1,
   "metadata": {},
   "outputs": [],
   "source": [
    "import tensorflow as tf\n",
    "import pandas as pd\n",
    "import numpy as np\n",
    "import os\n",
    "import tarfile\n",
    "import urllib\n",
    "import matplotlib.pyplot as plt\n",
    "import matplotlib as mpt\n",
    "from tensorflow import keras\n",
    "import math\n",
    "import time\n",
    "import sys\n",
    "import shutil\n",
    "import os\n",
    "import calendar\n",
    "import random"
   ]
  },
  {
   "attachments": {},
   "cell_type": "markdown",
   "metadata": {},
   "source": [
    "### sys 모듈"
   ]
  },
  {
   "cell_type": "code",
   "execution_count": 2,
   "metadata": {},
   "outputs": [
    {
     "data": {
      "text/plain": [
       "'3.9.13 (main, Aug 25 2022, 23:51:50) [MSC v.1916 64 bit (AMD64)]'"
      ]
     },
     "execution_count": 2,
     "metadata": {},
     "output_type": "execute_result"
    }
   ],
   "source": [
    "sys.version"
   ]
  },
  {
   "cell_type": "code",
   "execution_count": 3,
   "metadata": {},
   "outputs": [
    {
     "data": {
      "text/plain": [
       "['c:\\\\Users\\\\Popperkim\\\\OneDrive\\\\바탕 화면\\\\Data Analysis\\\\Practice_Version\\\\AI_basic_lecture_Practice',\n",
       " 'c:\\\\Users\\\\Popperkim\\\\anaconda3\\\\python39.zip',\n",
       " 'c:\\\\Users\\\\Popperkim\\\\anaconda3\\\\DLLs',\n",
       " 'c:\\\\Users\\\\Popperkim\\\\anaconda3\\\\lib',\n",
       " 'c:\\\\Users\\\\Popperkim\\\\anaconda3',\n",
       " '',\n",
       " 'c:\\\\Users\\\\Popperkim\\\\anaconda3\\\\lib\\\\site-packages',\n",
       " 'c:\\\\Users\\\\Popperkim\\\\anaconda3\\\\lib\\\\site-packages\\\\win32',\n",
       " 'c:\\\\Users\\\\Popperkim\\\\anaconda3\\\\lib\\\\site-packages\\\\win32\\\\lib',\n",
       " 'c:\\\\Users\\\\Popperkim\\\\anaconda3\\\\lib\\\\site-packages\\\\Pythonwin',\n",
       " 'c:\\\\Users\\\\Popperkim\\\\anaconda3\\\\lib\\\\site-packages\\\\IPython\\\\extensions',\n",
       " 'C:\\\\Users\\\\Popperkim\\\\.ipython']"
      ]
     },
     "execution_count": 3,
     "metadata": {},
     "output_type": "execute_result"
    }
   ],
   "source": [
    "sys.path"
   ]
  },
  {
   "attachments": {},
   "cell_type": "markdown",
   "metadata": {},
   "source": [
    "### time 모듈"
   ]
  },
  {
   "cell_type": "code",
   "execution_count": null,
   "metadata": {},
   "outputs": [],
   "source": [
    "import time\n",
    "\n",
    "start = time.time()\n",
    "for a in range(1000) :\n",
    "    print(a)\n",
    "end = time.time()\n",
    "print(round(end - start, 15))"
   ]
  },
  {
   "cell_type": "code",
   "execution_count": 9,
   "metadata": {},
   "outputs": [
    {
     "data": {
      "text/plain": [
       "time.struct_time(tm_year=2023, tm_mon=5, tm_mday=24, tm_hour=10, tm_min=56, tm_sec=33, tm_wday=2, tm_yday=144, tm_isdst=0)"
      ]
     },
     "execution_count": 9,
     "metadata": {},
     "output_type": "execute_result"
    }
   ],
   "source": [
    "time.localtime()"
   ]
  },
  {
   "cell_type": "code",
   "execution_count": 14,
   "metadata": {},
   "outputs": [
    {
     "name": "stdout",
     "output_type": "stream",
     "text": [
      "Success! 1684894104.2917747\n"
     ]
    }
   ],
   "source": [
    "while time.localtime()[3] !=11 or time.localtime()[4] !=8 : \n",
    "    time_set = time.time() + 30\n",
    "    while time.localtime()[3] !=11 or time.localtime()[4] !=8 :\n",
    "        time_goes_on = time.time()\n",
    "    print(\"Success!\", time_set)"
   ]
  },
  {
   "attachments": {},
   "cell_type": "markdown",
   "metadata": {},
   "source": [
    "### class 다루기"
   ]
  },
  {
   "cell_type": "code",
   "execution_count": null,
   "metadata": {},
   "outputs": [],
   "source": [
    "class Human : \n",
    "    def __init__(self, age, name) :\n",
    "        self.age = age\n",
    "        self.name = name\n",
    "    def intro(self) :\n",
    "        print(str(self.age) + \"살 \" + self.name + \" 입니다.\")\n",
    "\n",
    "kim = Human(29, \"김상형\")\n",
    "kim.intro()\n",
    "lee = Human(45, \"이승우\")\n",
    "lee.intro()"
   ]
  },
  {
   "cell_type": "code",
   "execution_count": null,
   "metadata": {},
   "outputs": [],
   "source": [
    "class name_yes :\n",
    "    def __init__(self, age, name) :\n",
    "        self.age = age\n",
    "        self.name = name\n",
    "    def intro(self) :\n",
    "        print(str(self.age) + \"살\" + self.name + \"입니다.\")\n",
    "    \n",
    "kim = name_yes(29, \"김승우\")\n",
    "kim.intro()"
   ]
  },
  {
   "cell_type": "code",
   "execution_count": null,
   "metadata": {},
   "outputs": [],
   "source": [
    "class Student(name_yes) :  \n",
    "    def __init__(self, age, name, stunum) :\n",
    "        super().__init__(age, name) #Super()은 부모 클래스의 메서드를 불러와 사용 가능\n",
    "        self.stunum = stunum\n",
    "    def intro(self) :\n",
    "        super().intro()\n",
    "        print(\"학번 : \" + str(self.stunum))\n",
    "    def study(self) :\n",
    "        print(\"그래요.\")\n",
    "\n",
    "lee = Student(34, \"이상형\", 930011)\n",
    "lee.study()\n",
    "lee.intro()"
   ]
  },
  {
   "cell_type": "code",
   "execution_count": null,
   "metadata": {},
   "outputs": [],
   "source": [
    "class name_yes :\n",
    "    def __init__(self, age, name) :\n",
    "        self.age = age\n",
    "        self.name = name\n",
    "    def __eq__(self, other) :\n",
    "        return self.name == other.name"
   ]
  },
  {
   "cell_type": "code",
   "execution_count": null,
   "metadata": {},
   "outputs": [],
   "source": [
    "t1 = name_yes(29, \"Lay\")\n",
    "t2 = name_yes(35, \"Lay\")\n",
    "t1 == t2"
   ]
  },
  {
   "cell_type": "code",
   "execution_count": null,
   "metadata": {},
   "outputs": [],
   "source": [
    "dir(tf)"
   ]
  },
  {
   "cell_type": "code",
   "execution_count": null,
   "metadata": {},
   "outputs": [],
   "source": [
    "class test :\n",
    "    def __init__(self, value) :\n",
    "        self.value = value\n",
    "    \n",
    "    def to_float(self) :\n",
    "        a = float(self.value)\n",
    "        return a"
   ]
  },
  {
   "cell_type": "code",
   "execution_count": null,
   "metadata": {},
   "outputs": [],
   "source": [
    "print(test(\"20\").to_float())\n",
    "print(type(test(\"20\").to_float()))"
   ]
  },
  {
   "attachments": {},
   "cell_type": "markdown",
   "metadata": {},
   "source": [
    "### 함수 다루기"
   ]
  },
  {
   "cell_type": "code",
   "execution_count": null,
   "metadata": {},
   "outputs": [],
   "source": [
    "def flunk(s) :\n",
    "    return s<60\n",
    "\n",
    "score = [45,89,72,53,94]\n",
    "\n",
    "for s in filter(flunk, score) :\n",
    "    print(s)"
   ]
  },
  {
   "cell_type": "code",
   "execution_count": null,
   "metadata": {},
   "outputs": [],
   "source": [
    "for s in filter(lambda x : (x+1)%5 == 0,score) : \n",
    "    print(s)"
   ]
  },
  {
   "attachments": {},
   "cell_type": "markdown",
   "metadata": {},
   "source": [
    "### Text 다루기"
   ]
  },
  {
   "cell_type": "code",
   "execution_count": null,
   "metadata": {},
   "outputs": [],
   "source": [
    "f = open(\"live.txt\", \"wt\")\n",
    "f.write(\"\"\"그러지\n",
    "마\n",
    "세요\"\"\")\n",
    "f.close()"
   ]
  },
  {
   "cell_type": "code",
   "execution_count": null,
   "metadata": {},
   "outputs": [],
   "source": [
    "shutil.copy(\"live.txt\", \"live2.txt\")"
   ]
  },
  {
   "attachments": {},
   "cell_type": "markdown",
   "metadata": {},
   "source": [
    "### Numpy & Pandas & Matplotlib"
   ]
  },
  {
   "cell_type": "code",
   "execution_count": null,
   "metadata": {},
   "outputs": [],
   "source": [
    "a = np.array([[0,1,2,3], [4,5,6,7]])\n",
    "a.ndim, a.shape, a.size"
   ]
  },
  {
   "cell_type": "code",
   "execution_count": null,
   "metadata": {},
   "outputs": [],
   "source": [
    "b= np.random.normal(0,1,10)\n",
    "print(b)"
   ]
  },
  {
   "cell_type": "code",
   "execution_count": null,
   "metadata": {},
   "outputs": [],
   "source": [
    "a = a.reshape(2,2)\n",
    "a"
   ]
  },
  {
   "cell_type": "code",
   "execution_count": null,
   "metadata": {},
   "outputs": [],
   "source": [
    "c = {\"key1\" : 10, \"key2\" : 20, \"key3\" : 30}\n",
    "c = pd.Series(c)\n",
    "plt.plot(c)\n",
    "plt.show()"
   ]
  },
  {
   "cell_type": "code",
   "execution_count": null,
   "metadata": {},
   "outputs": [],
   "source": [
    "a2 = {'col0' : [0,1,2], 'col2' : [3,4,5] , 'col3' : [6,7,8]}\n",
    "a2 = pd.DataFrame(a2)\n",
    "a2"
   ]
  },
  {
   "cell_type": "code",
   "execution_count": null,
   "metadata": {},
   "outputs": [],
   "source": [
    "a2 = pd.DataFrame([[1,100,'A'],[2,200,'B'],[1,2,\"c\"]], index=[0,1,2], columns=['num','score','result'])\n",
    "a2"
   ]
  },
  {
   "cell_type": "code",
   "execution_count": null,
   "metadata": {},
   "outputs": [],
   "source": [
    "plt.plot([10,20,30,40], [10,20,30,40], label = 'First Group')\n",
    "plt.plot([10,20,30,40], [40,30,20,10], label = 'Second Group')\n",
    "plt.legend()\n",
    "plt.show()"
   ]
  },
  {
   "attachments": {},
   "cell_type": "markdown",
   "metadata": {},
   "source": [
    "### 기초 데이터 타입"
   ]
  },
  {
   "cell_type": "code",
   "execution_count": null,
   "metadata": {},
   "outputs": [],
   "source": [
    "a = 0x1a\n",
    "print(a,a,sep=\">\")"
   ]
  },
  {
   "cell_type": "code",
   "execution_count": null,
   "metadata": {},
   "outputs": [],
   "source": [
    "b = \"Yes \\\n",
    "No \\\n",
    "y/n\"\n",
    "b"
   ]
  },
  {
   "cell_type": "code",
   "execution_count": null,
   "metadata": {},
   "outputs": [],
   "source": [
    "student = 1\n",
    "while student < 5 :\n",
    "  print(student, \"번 학생의 성적을 처리한다.\")\n",
    "  student += 1\n",
    "\n",
    "for student in [1,2,3,4,5] :\n",
    "  print(student, \"번 학생의 성적을 처리한다.\")"
   ]
  },
  {
   "attachments": {},
   "cell_type": "markdown",
   "metadata": {},
   "source": [
    "### Loss Function"
   ]
  },
  {
   "cell_type": "code",
   "execution_count": null,
   "metadata": {},
   "outputs": [],
   "source": [
    "import torch\n",
    "import torch.nn as nn\n",
    "import torch.optim as optim\n",
    "\n",
    "import torchvision \n",
    "import torchvision.datasets as datasets\n",
    "import torchvision.transforms as transforms\n",
    "\n",
    "from torch.utils.data import DataLoader\n",
    "from torchvision.utils import save_image\n",
    "\n",
    "import matplotlib\n",
    "import matplotlib.pyplot as plt\n",
    "import PIL"
   ]
  },
  {
   "cell_type": "code",
   "execution_count": null,
   "metadata": {},
   "outputs": [],
   "source": [
    "print(f'torch version : {torch.__version__}')\n",
    "print(f'torchvision version : {torchvision.__version__}')\n",
    "print(f'matplotlib version : {matplotlib.__version__}')\n",
    "print(f'PIL version : {PIL.__version__}')"
   ]
  },
  {
   "cell_type": "code",
   "execution_count": null,
   "metadata": {},
   "outputs": [],
   "source": [
    "device = torch.device(\"cuda\" if torch.cuda.is_available() else \"cpu\")\n",
    "print(\"Using device\", device)"
   ]
  },
  {
   "cell_type": "code",
   "execution_count": null,
   "metadata": {},
   "outputs": [],
   "source": [
    "train_dataset = datasets.MNIST(root = \"data\", train = True, transform = transforms.ToTensor(), download=True)\n",
    "test_dataset = datasets.MNIST(root = \"data\", train = False, transform = transforms.ToTensor(), download=True)\n",
    "\n",
    "train_loader = DataLoader(dataset = train_dataset, batch_size = 64, shuffle = True)\n",
    "test_loader = DataLoader(dataset = test_dataset, batch_size = 1, shuffle = True)"
   ]
  },
  {
   "cell_type": "code",
   "execution_count": null,
   "metadata": {},
   "outputs": [],
   "source": [
    "batch = next(iter(train_loader))\n",
    "images, labels = batch\n",
    "plt.figure(figsize = (7,7))\n",
    "grid = torchvision.utils.make_grid(tensor=images, nrow=8)\n",
    "plt.imshow(grid.permute(1,2,0))"
   ]
  },
  {
   "cell_type": "code",
   "execution_count": null,
   "metadata": {},
   "outputs": [],
   "source": [
    "noise_images = images + torch.randn(images.shape) * 0.5\n",
    "plt.figure(figsize = (7,7))\n",
    "grid = torchvision.utils.make_grid(tensor=noise_images, nrow=8)\n",
    "plt.imshow(grid.permute(1,2,0))"
   ]
  },
  {
   "cell_type": "code",
   "execution_count": null,
   "metadata": {},
   "outputs": [],
   "source": [
    "class AutoEncoder(nn.Module):\n",
    "    def __init__(self):\n",
    "        super(AutoEncoder, self).__init__()\n",
    "        self.encoder = nn.Sequential(\n",
    "            nn.Conv2d(1, 16, kernel_size=3, stride=2, padding=1),\n",
    "            nn.ReLU(),\n",
    "            nn.Conv2d(16, 32, kernel_size=3, stride=2, padding=1),\n",
    "            nn.ReLU(),\n",
    "            nn.Conv2d(32, 64, kernel_size=7)\n",
    "        )\n",
    "        self.decoder = nn.Sequential(\n",
    "            nn.ConvTranspose2d(64, 32, kernel_size=7),\n",
    "            nn.ReLU(),\n",
    "            nn.ConvTranspose2d(32, 16, kernel_size=3, stride=2, padding=1, output_padding=1),\n",
    "            nn.ReLU(),\n",
    "            nn.ConvTranspose2d(16, 1, kernel_size=3, stride=2, padding=1, output_padding=1),\n",
    "            nn.Sigmoid()\n",
    "        )\n",
    "\n",
    "    def forward(self, x):\n",
    "        encoded = self.encoder(x)\n",
    "        decoded = self.decoder(encoded)\n",
    "        return decoded"
   ]
  },
  {
   "cell_type": "code",
   "execution_count": null,
   "metadata": {},
   "outputs": [],
   "source": [
    "def train(model, train_loader, criterion, optimizer, epochs):\n",
    "    for epoch in range(epochs):\n",
    "        train_loss = 0\n",
    "        for data in train_loader:\n",
    "            img, _ = data\n",
    "            img = img.to(device)\n",
    "            noisy_img = img + torch.randn(img.shape).to(device) * 0.5\n",
    "            noisy_img = torch.clamp(noisy_img, 0.0, 1.0)\n",
    "            optimizer.zero_grad()\n",
    "            output = model(noisy_img)\n",
    "            loss = criterion(output, img)\n",
    "            loss.backward()\n",
    "            optimizer.step()\n",
    "            train_loss += loss.item()\n",
    "        print(f\"Epoch {epoch+1}, Loss: {train_loss/len(train_loader):.6f}\")"
   ]
  },
  {
   "cell_type": "code",
   "execution_count": null,
   "metadata": {},
   "outputs": [],
   "source": [
    "def test(model, test_loader, device):\n",
    "    with torch.no_grad():\n",
    "        for data in test_loader:\n",
    "            img, _ = data\n",
    "            img = img.to(device)\n",
    "            img = img.view(1, 1, 28, 28)\n",
    "            noisy_img = img + torch.randn(img.shape).to(device) * 0.5\n",
    "            noisy_img = torch.clamp(noisy_img, 0.0, 1.0)\n",
    "            output = model(noisy_img.to(device))\n",
    "            save_image(img.view(1, 1, 28, 28), 'original.png')\n",
    "            save_image(noisy_img.view(1, 1, 28, 28), 'noisy.png')\n",
    "            save_image(output.view(1, 1, 28, 28), 'denoised.png')\n",
    "            break"
   ]
  },
  {
   "cell_type": "code",
   "execution_count": null,
   "metadata": {},
   "outputs": [],
   "source": [
    "# 모델 선언\n",
    "model = AutoEncoder().to(device)\n",
    "\n",
    "# 손실함수(criterion), 옵티마이저(optimizer), 학습반복횟수(epochs) 정의\n",
    "criterion = nn.MSELoss()\n",
    "optimizer = optim.Adam(model.parameters(), lr=0.001)\n",
    "epochs = 5 # 10 이하로 설정을 권장"
   ]
  },
  {
   "cell_type": "code",
   "execution_count": null,
   "metadata": {},
   "outputs": [],
   "source": [
    "# 모델 훈련시키기\n",
    "train(model, train_loader, criterion, optimizer, epochs)"
   ]
  },
  {
   "cell_type": "code",
   "execution_count": null,
   "metadata": {},
   "outputs": [],
   "source": [
    "# Test the model\n",
    "test(model, test_loader, device)"
   ]
  },
  {
   "cell_type": "code",
   "execution_count": null,
   "metadata": {},
   "outputs": [],
   "source": [
    "original = PIL.Image.open('original.png')\n",
    "noisy = PIL.Image.open('noisy.png')\n",
    "denoised = PIL.Image.open('denoised.png')\n",
    "\n",
    "fig, axes = plt.subplots(nrows=1, ncols=3)\n",
    "\n",
    "axes[0].imshow(original)\n",
    "axes[1].imshow(noisy)\n",
    "axes[2].imshow(denoised)\n",
    "\n",
    "plt.show()"
   ]
  }
 ],
 "metadata": {
  "kernelspec": {
   "display_name": "base",
   "language": "python",
   "name": "python3"
  },
  "language_info": {
   "codemirror_mode": {
    "name": "ipython",
    "version": 3
   },
   "file_extension": ".py",
   "mimetype": "text/x-python",
   "name": "python",
   "nbconvert_exporter": "python",
   "pygments_lexer": "ipython3",
   "version": "3.9.13"
  },
  "orig_nbformat": 4
 },
 "nbformat": 4,
 "nbformat_minor": 2
}
