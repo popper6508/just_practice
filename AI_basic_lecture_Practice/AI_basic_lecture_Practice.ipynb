{
 "cells": [
  {
   "attachments": {},
   "cell_type": "markdown",
   "metadata": {},
   "source": [
    "## AI using and Basic"
   ]
  },
  {
   "attachments": {},
   "cell_type": "markdown",
   "metadata": {},
   "source": [
    "### 필요모듈"
   ]
  },
  {
   "cell_type": "code",
   "execution_count": 1,
   "metadata": {},
   "outputs": [],
   "source": [
    "import tensorflow as tf\n",
    "import pandas as pd\n",
    "import numpy as np\n",
    "import os\n",
    "import tarfile\n",
    "import urllib\n",
    "import matplotlib.pyplot as plt\n",
    "import matplotlib as mpt\n",
    "from tensorflow import keras\n",
    "import math\n",
    "import time\n",
    "import sys\n",
    "import shutil\n",
    "import os\n",
    "import calendar\n",
    "import random"
   ]
  },
  {
   "attachments": {},
   "cell_type": "markdown",
   "metadata": {},
   "source": [
    "### sys 모듈"
   ]
  },
  {
   "cell_type": "code",
   "execution_count": null,
   "metadata": {},
   "outputs": [],
   "source": [
    "sys.version"
   ]
  },
  {
   "cell_type": "code",
   "execution_count": null,
   "metadata": {},
   "outputs": [],
   "source": [
    "sys.path"
   ]
  },
  {
   "attachments": {},
   "cell_type": "markdown",
   "metadata": {},
   "source": [
    "### time 모듈"
   ]
  },
  {
   "cell_type": "code",
   "execution_count": null,
   "metadata": {},
   "outputs": [],
   "source": [
    "import time\n",
    "\n",
    "start = time.time()\n",
    "for a in range(1000) :\n",
    "    print(a)\n",
    "end = time.time()\n",
    "print(round(end - start, 15))"
   ]
  },
  {
   "attachments": {},
   "cell_type": "markdown",
   "metadata": {},
   "source": [
    "### class 다루기"
   ]
  },
  {
   "cell_type": "code",
   "execution_count": null,
   "metadata": {},
   "outputs": [],
   "source": [
    "class Human : \n",
    "    def __init__(self, age, name) :\n",
    "        self.age = age\n",
    "        self.name = name\n",
    "    def intro(self) :\n",
    "        print(str(self.age) + \"살 \" + self.name + \" 입니다.\")\n",
    "\n",
    "kim = Human(29, \"김상형\")\n",
    "kim.intro()\n",
    "lee = Human(45, \"이승우\")\n",
    "lee.intro()"
   ]
  },
  {
   "cell_type": "code",
   "execution_count": null,
   "metadata": {},
   "outputs": [],
   "source": [
    "class name_yes :\n",
    "    def __init__(self, age, name) :\n",
    "        self.age = age\n",
    "        self.name = name\n",
    "    def intro(self) :\n",
    "        print(str(self.age) + \"살\" + self.name + \"입니다.\")\n",
    "    \n",
    "kim = name_yes(29, \"김승우\")\n",
    "kim.intro()"
   ]
  },
  {
   "cell_type": "code",
   "execution_count": null,
   "metadata": {},
   "outputs": [],
   "source": [
    "class Student(name_yes) :  \n",
    "    def __init__(self, age, name, stunum) :\n",
    "        super().__init__(age, name) #Super()은 부모 클래스의 메서드를 불러와 사용 가능\n",
    "        self.stunum = stunum\n",
    "    def intro(self) :\n",
    "        super().intro()\n",
    "        print(\"학번 : \" + str(self.stunum))\n",
    "    def study(self) :\n",
    "        print(\"그래요.\")\n",
    "\n",
    "lee = Student(34, \"이상형\", 930011)\n",
    "lee.study()\n",
    "lee.intro()"
   ]
  },
  {
   "cell_type": "code",
   "execution_count": null,
   "metadata": {},
   "outputs": [],
   "source": [
    "class name_yes :\n",
    "    def __init__(self, age, name) :\n",
    "        self.age = age\n",
    "        self.name = name\n",
    "    def __eq__(self, other) :\n",
    "        return self.name == other.name"
   ]
  },
  {
   "cell_type": "code",
   "execution_count": null,
   "metadata": {},
   "outputs": [],
   "source": [
    "t1 = name_yes(29, \"Lay\")\n",
    "t2 = name_yes(35, \"Lay\")\n",
    "t1 == t2"
   ]
  },
  {
   "cell_type": "code",
   "execution_count": null,
   "metadata": {},
   "outputs": [],
   "source": [
    "dir(tf)"
   ]
  },
  {
   "cell_type": "code",
   "execution_count": null,
   "metadata": {},
   "outputs": [],
   "source": [
    "class test :\n",
    "    def __init__(self, value) :\n",
    "        self.value = value\n",
    "    \n",
    "    def to_float(self) :\n",
    "        a = float(self.value)\n",
    "        return a"
   ]
  },
  {
   "cell_type": "code",
   "execution_count": null,
   "metadata": {},
   "outputs": [],
   "source": [
    "print(test(\"20\").to_float())\n",
    "print(type(test(\"20\").to_float()))"
   ]
  },
  {
   "attachments": {},
   "cell_type": "markdown",
   "metadata": {},
   "source": [
    "### 함수 다루기"
   ]
  },
  {
   "cell_type": "code",
   "execution_count": null,
   "metadata": {},
   "outputs": [],
   "source": [
    "def flunk(s) :\n",
    "    return s<60\n",
    "\n",
    "score = [45,89,72,53,94]\n",
    "\n",
    "for s in filter(flunk, score) :\n",
    "    print(s)"
   ]
  },
  {
   "cell_type": "code",
   "execution_count": null,
   "metadata": {},
   "outputs": [],
   "source": [
    "for s in filter(lambda x : (x+1)%5 == 0,score) : \n",
    "    print(s)"
   ]
  },
  {
   "attachments": {},
   "cell_type": "markdown",
   "metadata": {},
   "source": [
    "### Text 다루기"
   ]
  },
  {
   "cell_type": "code",
   "execution_count": null,
   "metadata": {},
   "outputs": [],
   "source": [
    "f = open(\"live.txt\", \"wt\")\n",
    "f.write(\"\"\"그러지\n",
    "마\n",
    "세요\"\"\")\n",
    "f.close()"
   ]
  },
  {
   "cell_type": "code",
   "execution_count": null,
   "metadata": {},
   "outputs": [],
   "source": [
    "shutil.copy(\"live.txt\", \"live2.txt\")"
   ]
  },
  {
   "attachments": {},
   "cell_type": "markdown",
   "metadata": {},
   "source": [
    "### Numpy & Pandas & Matplotlib"
   ]
  },
  {
   "cell_type": "code",
   "execution_count": null,
   "metadata": {},
   "outputs": [],
   "source": [
    "a = np.array([[0,1,2,3], [4,5,6,7]])\n",
    "a.ndim, a.shape, a.size"
   ]
  },
  {
   "cell_type": "code",
   "execution_count": null,
   "metadata": {},
   "outputs": [],
   "source": [
    "b= np.random.normal(0,1,10)\n",
    "print(b)"
   ]
  },
  {
   "cell_type": "code",
   "execution_count": null,
   "metadata": {},
   "outputs": [],
   "source": [
    "a = a.reshape(2,2)\n",
    "a"
   ]
  },
  {
   "cell_type": "code",
   "execution_count": null,
   "metadata": {},
   "outputs": [],
   "source": [
    "c = {\"key1\" : 10, \"key2\" : 20, \"key3\" : 30}\n",
    "c = pd.Series(c)\n",
    "plt.plot(c)\n",
    "plt.show()"
   ]
  },
  {
   "cell_type": "code",
   "execution_count": null,
   "metadata": {},
   "outputs": [],
   "source": [
    "a2 = {'col0' : [0,1,2], 'col2' : [3,4,5] , 'col3' : [6,7,8]}\n",
    "a2 = pd.DataFrame(a2)\n",
    "a2"
   ]
  },
  {
   "cell_type": "code",
   "execution_count": null,
   "metadata": {},
   "outputs": [],
   "source": [
    "a2 = pd.DataFrame([[1,100,'A'],[2,200,'B'],[1,2,\"c\"]], index=[0,1,2], columns=['num','score','result'])\n",
    "a2"
   ]
  },
  {
   "cell_type": "code",
   "execution_count": null,
   "metadata": {},
   "outputs": [],
   "source": [
    "plt.plot([10,20,30,40], [10,20,30,40], label = 'First Group')\n",
    "plt.plot([10,20,30,40], [40,30,20,10], label = 'Second Group')\n",
    "plt.legend()\n",
    "plt.show()"
   ]
  },
  {
   "attachments": {},
   "cell_type": "markdown",
   "metadata": {},
   "source": [
    "### 시스템"
   ]
  },
  {
   "cell_type": "code",
   "execution_count": null,
   "metadata": {},
   "outputs": [],
   "source": []
  }
 ],
 "metadata": {
  "kernelspec": {
   "display_name": "base",
   "language": "python",
   "name": "python3"
  },
  "language_info": {
   "codemirror_mode": {
    "name": "ipython",
    "version": 3
   },
   "file_extension": ".py",
   "mimetype": "text/x-python",
   "name": "python",
   "nbconvert_exporter": "python",
   "pygments_lexer": "ipython3",
   "version": "3.9.13"
  },
  "orig_nbformat": 4
 },
 "nbformat": 4,
 "nbformat_minor": 2
}
