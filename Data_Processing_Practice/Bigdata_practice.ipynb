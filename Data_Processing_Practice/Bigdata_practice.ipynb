{
 "cells": [
  {
   "attachments": {},
   "cell_type": "markdown",
   "metadata": {},
   "source": [
    "# First Project "
   ]
  },
  {
   "attachments": {},
   "cell_type": "markdown",
   "metadata": {},
   "source": [
    "1. Library and Setting"
   ]
  },
  {
   "cell_type": "code",
   "execution_count": 2,
   "metadata": {},
   "outputs": [],
   "source": [
    "import PublicDataReader as pdr\n",
    "import pandas as pd\n",
    "import numpy as np\n",
    "from sklearn.linear_model import LogisticRegression\n",
    "from sklearn.tree import DecisionTreeClassifier"
   ]
  },
  {
   "cell_type": "code",
   "execution_count": 58,
   "metadata": {},
   "outputs": [],
   "source": [
    "train = pd.read_csv(\"titanic_train.csv\")\n",
    "test = pd.read_csv(\"titanic_test.csv\")"
   ]
  },
  {
   "attachments": {},
   "cell_type": "markdown",
   "metadata": {},
   "source": [
    "2. EDA"
   ]
  },
  {
   "cell_type": "code",
   "execution_count": 4,
   "metadata": {},
   "outputs": [
    {
     "data": {
      "text/html": [
       "<div>\n",
       "<style scoped>\n",
       "    .dataframe tbody tr th:only-of-type {\n",
       "        vertical-align: middle;\n",
       "    }\n",
       "\n",
       "    .dataframe tbody tr th {\n",
       "        vertical-align: top;\n",
       "    }\n",
       "\n",
       "    .dataframe thead th {\n",
       "        text-align: right;\n",
       "    }\n",
       "</style>\n",
       "<table border=\"1\" class=\"dataframe\">\n",
       "  <thead>\n",
       "    <tr style=\"text-align: right;\">\n",
       "      <th></th>\n",
       "      <th>PassengerId</th>\n",
       "      <th>Survived</th>\n",
       "      <th>Pclass</th>\n",
       "      <th>Name</th>\n",
       "      <th>Sex</th>\n",
       "      <th>Age</th>\n",
       "      <th>SibSp</th>\n",
       "      <th>Parch</th>\n",
       "      <th>Ticket</th>\n",
       "      <th>Fare</th>\n",
       "      <th>Cabin</th>\n",
       "      <th>Embarked</th>\n",
       "    </tr>\n",
       "  </thead>\n",
       "  <tbody>\n",
       "    <tr>\n",
       "      <th>0</th>\n",
       "      <td>1</td>\n",
       "      <td>0</td>\n",
       "      <td>3</td>\n",
       "      <td>Braund, Mr. Owen Harris</td>\n",
       "      <td>male</td>\n",
       "      <td>22.0</td>\n",
       "      <td>1</td>\n",
       "      <td>0</td>\n",
       "      <td>A/5 21171</td>\n",
       "      <td>7.2500</td>\n",
       "      <td>NaN</td>\n",
       "      <td>S</td>\n",
       "    </tr>\n",
       "    <tr>\n",
       "      <th>1</th>\n",
       "      <td>2</td>\n",
       "      <td>1</td>\n",
       "      <td>1</td>\n",
       "      <td>Cumings, Mrs. John Bradley (Florence Briggs Th...</td>\n",
       "      <td>female</td>\n",
       "      <td>38.0</td>\n",
       "      <td>1</td>\n",
       "      <td>0</td>\n",
       "      <td>PC 17599</td>\n",
       "      <td>71.2833</td>\n",
       "      <td>C85</td>\n",
       "      <td>C</td>\n",
       "    </tr>\n",
       "    <tr>\n",
       "      <th>2</th>\n",
       "      <td>3</td>\n",
       "      <td>1</td>\n",
       "      <td>3</td>\n",
       "      <td>Heikkinen, Miss. Laina</td>\n",
       "      <td>female</td>\n",
       "      <td>26.0</td>\n",
       "      <td>0</td>\n",
       "      <td>0</td>\n",
       "      <td>STON/O2. 3101282</td>\n",
       "      <td>7.9250</td>\n",
       "      <td>NaN</td>\n",
       "      <td>S</td>\n",
       "    </tr>\n",
       "    <tr>\n",
       "      <th>3</th>\n",
       "      <td>4</td>\n",
       "      <td>1</td>\n",
       "      <td>1</td>\n",
       "      <td>Futrelle, Mrs. Jacques Heath (Lily May Peel)</td>\n",
       "      <td>female</td>\n",
       "      <td>35.0</td>\n",
       "      <td>1</td>\n",
       "      <td>0</td>\n",
       "      <td>113803</td>\n",
       "      <td>53.1000</td>\n",
       "      <td>C123</td>\n",
       "      <td>S</td>\n",
       "    </tr>\n",
       "    <tr>\n",
       "      <th>4</th>\n",
       "      <td>5</td>\n",
       "      <td>0</td>\n",
       "      <td>3</td>\n",
       "      <td>Allen, Mr. William Henry</td>\n",
       "      <td>male</td>\n",
       "      <td>35.0</td>\n",
       "      <td>0</td>\n",
       "      <td>0</td>\n",
       "      <td>373450</td>\n",
       "      <td>8.0500</td>\n",
       "      <td>NaN</td>\n",
       "      <td>S</td>\n",
       "    </tr>\n",
       "  </tbody>\n",
       "</table>\n",
       "</div>"
      ],
      "text/plain": [
       "   PassengerId  Survived  Pclass  \\\n",
       "0            1         0       3   \n",
       "1            2         1       1   \n",
       "2            3         1       3   \n",
       "3            4         1       1   \n",
       "4            5         0       3   \n",
       "\n",
       "                                                Name     Sex   Age  SibSp  \\\n",
       "0                            Braund, Mr. Owen Harris    male  22.0      1   \n",
       "1  Cumings, Mrs. John Bradley (Florence Briggs Th...  female  38.0      1   \n",
       "2                             Heikkinen, Miss. Laina  female  26.0      0   \n",
       "3       Futrelle, Mrs. Jacques Heath (Lily May Peel)  female  35.0      1   \n",
       "4                           Allen, Mr. William Henry    male  35.0      0   \n",
       "\n",
       "   Parch            Ticket     Fare Cabin Embarked  \n",
       "0      0         A/5 21171   7.2500   NaN        S  \n",
       "1      0          PC 17599  71.2833   C85        C  \n",
       "2      0  STON/O2. 3101282   7.9250   NaN        S  \n",
       "3      0            113803  53.1000  C123        S  \n",
       "4      0            373450   8.0500   NaN        S  "
      ]
     },
     "execution_count": 4,
     "metadata": {},
     "output_type": "execute_result"
    }
   ],
   "source": [
    "train.head()"
   ]
  },
  {
   "cell_type": "code",
   "execution_count": 5,
   "metadata": {},
   "outputs": [
    {
     "data": {
      "text/plain": [
       "(891, 12)"
      ]
     },
     "execution_count": 5,
     "metadata": {},
     "output_type": "execute_result"
    }
   ],
   "source": [
    "train.shape"
   ]
  },
  {
   "cell_type": "code",
   "execution_count": 6,
   "metadata": {},
   "outputs": [
    {
     "data": {
      "text/html": [
       "<div>\n",
       "<style scoped>\n",
       "    .dataframe tbody tr th:only-of-type {\n",
       "        vertical-align: middle;\n",
       "    }\n",
       "\n",
       "    .dataframe tbody tr th {\n",
       "        vertical-align: top;\n",
       "    }\n",
       "\n",
       "    .dataframe thead th {\n",
       "        text-align: right;\n",
       "    }\n",
       "</style>\n",
       "<table border=\"1\" class=\"dataframe\">\n",
       "  <thead>\n",
       "    <tr style=\"text-align: right;\">\n",
       "      <th></th>\n",
       "      <th>PassengerId</th>\n",
       "      <th>Survived</th>\n",
       "      <th>Pclass</th>\n",
       "      <th>Age</th>\n",
       "      <th>SibSp</th>\n",
       "      <th>Parch</th>\n",
       "      <th>Fare</th>\n",
       "    </tr>\n",
       "  </thead>\n",
       "  <tbody>\n",
       "    <tr>\n",
       "      <th>count</th>\n",
       "      <td>891.000000</td>\n",
       "      <td>891.000000</td>\n",
       "      <td>891.000000</td>\n",
       "      <td>714.000000</td>\n",
       "      <td>891.000000</td>\n",
       "      <td>891.000000</td>\n",
       "      <td>891.000000</td>\n",
       "    </tr>\n",
       "    <tr>\n",
       "      <th>mean</th>\n",
       "      <td>446.000000</td>\n",
       "      <td>0.383838</td>\n",
       "      <td>2.308642</td>\n",
       "      <td>29.699118</td>\n",
       "      <td>0.523008</td>\n",
       "      <td>0.381594</td>\n",
       "      <td>32.204208</td>\n",
       "    </tr>\n",
       "    <tr>\n",
       "      <th>std</th>\n",
       "      <td>257.353842</td>\n",
       "      <td>0.486592</td>\n",
       "      <td>0.836071</td>\n",
       "      <td>14.526497</td>\n",
       "      <td>1.102743</td>\n",
       "      <td>0.806057</td>\n",
       "      <td>49.693429</td>\n",
       "    </tr>\n",
       "    <tr>\n",
       "      <th>min</th>\n",
       "      <td>1.000000</td>\n",
       "      <td>0.000000</td>\n",
       "      <td>1.000000</td>\n",
       "      <td>0.420000</td>\n",
       "      <td>0.000000</td>\n",
       "      <td>0.000000</td>\n",
       "      <td>0.000000</td>\n",
       "    </tr>\n",
       "    <tr>\n",
       "      <th>25%</th>\n",
       "      <td>223.500000</td>\n",
       "      <td>0.000000</td>\n",
       "      <td>2.000000</td>\n",
       "      <td>20.125000</td>\n",
       "      <td>0.000000</td>\n",
       "      <td>0.000000</td>\n",
       "      <td>7.910400</td>\n",
       "    </tr>\n",
       "    <tr>\n",
       "      <th>50%</th>\n",
       "      <td>446.000000</td>\n",
       "      <td>0.000000</td>\n",
       "      <td>3.000000</td>\n",
       "      <td>28.000000</td>\n",
       "      <td>0.000000</td>\n",
       "      <td>0.000000</td>\n",
       "      <td>14.454200</td>\n",
       "    </tr>\n",
       "    <tr>\n",
       "      <th>75%</th>\n",
       "      <td>668.500000</td>\n",
       "      <td>1.000000</td>\n",
       "      <td>3.000000</td>\n",
       "      <td>38.000000</td>\n",
       "      <td>1.000000</td>\n",
       "      <td>0.000000</td>\n",
       "      <td>31.000000</td>\n",
       "    </tr>\n",
       "    <tr>\n",
       "      <th>max</th>\n",
       "      <td>891.000000</td>\n",
       "      <td>1.000000</td>\n",
       "      <td>3.000000</td>\n",
       "      <td>80.000000</td>\n",
       "      <td>8.000000</td>\n",
       "      <td>6.000000</td>\n",
       "      <td>512.329200</td>\n",
       "    </tr>\n",
       "  </tbody>\n",
       "</table>\n",
       "</div>"
      ],
      "text/plain": [
       "       PassengerId    Survived      Pclass         Age       SibSp  \\\n",
       "count   891.000000  891.000000  891.000000  714.000000  891.000000   \n",
       "mean    446.000000    0.383838    2.308642   29.699118    0.523008   \n",
       "std     257.353842    0.486592    0.836071   14.526497    1.102743   \n",
       "min       1.000000    0.000000    1.000000    0.420000    0.000000   \n",
       "25%     223.500000    0.000000    2.000000   20.125000    0.000000   \n",
       "50%     446.000000    0.000000    3.000000   28.000000    0.000000   \n",
       "75%     668.500000    1.000000    3.000000   38.000000    1.000000   \n",
       "max     891.000000    1.000000    3.000000   80.000000    8.000000   \n",
       "\n",
       "            Parch        Fare  \n",
       "count  891.000000  891.000000  \n",
       "mean     0.381594   32.204208  \n",
       "std      0.806057   49.693429  \n",
       "min      0.000000    0.000000  \n",
       "25%      0.000000    7.910400  \n",
       "50%      0.000000   14.454200  \n",
       "75%      0.000000   31.000000  \n",
       "max      6.000000  512.329200  "
      ]
     },
     "execution_count": 6,
     "metadata": {},
     "output_type": "execute_result"
    }
   ],
   "source": [
    "train.describe()"
   ]
  },
  {
   "cell_type": "code",
   "execution_count": 7,
   "metadata": {},
   "outputs": [
    {
     "data": {
      "text/plain": [
       "S    644\n",
       "C    168\n",
       "Q     77\n",
       "Name: Embarked, dtype: int64"
      ]
     },
     "execution_count": 7,
     "metadata": {},
     "output_type": "execute_result"
    }
   ],
   "source": [
    "train['Embarked'].value_counts()"
   ]
  },
  {
   "cell_type": "code",
   "execution_count": 8,
   "metadata": {},
   "outputs": [
    {
     "data": {
      "text/plain": [
       "<AxesSubplot:xlabel='Pclass'>"
      ]
     },
     "execution_count": 8,
     "metadata": {},
     "output_type": "execute_result"
    },
    {
     "data": {
      "image/png": "[encoded data removed]",
      "text/plain": [
       "<Figure size 640x480 with 1 Axes>"
      ]
     },
     "metadata": {},
     "output_type": "display_data"
    }
   ],
   "source": [
    "train.groupby('Sex').mean()\n",
    "train.groupby('Pclass').mean()\n",
    "train.groupby('Pclass').mean()['Survived'].plot(kind='bar')\n"
   ]
  },
  {
   "attachments": {},
   "cell_type": "markdown",
   "metadata": {},
   "source": [
    "Relation between datas"
   ]
  },
  {
   "cell_type": "code",
   "execution_count": 9,
   "metadata": {},
   "outputs": [
    {
     "data": {
      "text/plain": [
       "<AxesSubplot:xlabel='Age', ylabel='Fare'>"
      ]
     },
     "execution_count": 9,
     "metadata": {},
     "output_type": "execute_result"
    },
    {
     "data": {
      "image/png": "[encoded data removed]",
      "text/plain": [
       "<Figure size 640x480 with 1 Axes>"
      ]
     },
     "metadata": {},
     "output_type": "display_data"
    }
   ],
   "source": [
    "train.plot(x='Age',y='Fare',kind='scatter')"
   ]
  },
  {
   "attachments": {},
   "cell_type": "markdown",
   "metadata": {},
   "source": [
    "Data type Check"
   ]
  },
  {
   "cell_type": "code",
   "execution_count": 10,
   "metadata": {},
   "outputs": [
    {
     "name": "stdout",
     "output_type": "stream",
     "text": [
      "<class 'pandas.core.frame.DataFrame'>\n",
      "RangeIndex: 891 entries, 0 to 890\n",
      "Data columns (total 12 columns):\n",
      " #   Column       Non-Null Count  Dtype  \n",
      "---  ------       --------------  -----  \n",
      " 0   PassengerId  891 non-null    int64  \n",
      " 1   Survived     891 non-null    int64  \n",
      " 2   Pclass       891 non-null    int64  \n",
      " 3   Name         891 non-null    object \n",
      " 4   Sex          891 non-null    object \n",
      " 5   Age          714 non-null    float64\n",
      " 6   SibSp        891 non-null    int64  \n",
      " 7   Parch        891 non-null    int64  \n",
      " 8   Ticket       891 non-null    object \n",
      " 9   Fare         891 non-null    float64\n",
      " 10  Cabin        204 non-null    object \n",
      " 11  Embarked     889 non-null    object \n",
      "dtypes: float64(2), int64(5), object(5)\n",
      "memory usage: 83.7+ KB\n"
     ]
    }
   ],
   "source": [
    "train.info()"
   ]
  },
  {
   "cell_type": "code",
   "execution_count": 29,
   "metadata": {},
   "outputs": [
    {
     "data": {
      "text/plain": [
       "PassengerId      0\n",
       "Survived         0\n",
       "Pclass           0\n",
       "Name             0\n",
       "Sex              0\n",
       "Age              0\n",
       "SibSp            0\n",
       "Parch            0\n",
       "Ticket           0\n",
       "Fare             0\n",
       "Cabin          687\n",
       "Embarked         0\n",
       "dtype: int64"
      ]
     },
     "execution_count": 29,
     "metadata": {},
     "output_type": "execute_result"
    }
   ],
   "source": [
    "train.isna().sum()"
   ]
  },
  {
   "cell_type": "code",
   "execution_count": 59,
   "metadata": {},
   "outputs": [],
   "source": [
    "train['Age'] = train['Age'].fillna(train['Age'].median())\n",
    "train['Embarked'] = train['Embarked'].fillna(\"S\")\n",
    "train[\"Sex\"] = train[\"Sex\"].map({\"male\":0, \"female\":1})\n",
    "test[\"Sex\"] = test[\"Sex\"].map({\"male\":0, \"female\":1})\n"
   ]
  },
  {
   "cell_type": "code",
   "execution_count": 60,
   "metadata": {},
   "outputs": [],
   "source": [
    "X_train  = train[['Sex', 'Pclass']]\n",
    "X_test  = test[['Sex', 'Pclass']]\n",
    "y_train  = train['Survived']"
   ]
  },
  {
   "attachments": {},
   "cell_type": "markdown",
   "metadata": {},
   "source": [
    "Modeling"
   ]
  },
  {
   "cell_type": "code",
   "execution_count": 61,
   "metadata": {},
   "outputs": [],
   "source": [
    "lr= LogisticRegression()\n",
    "lr.fit(X_train, y_train)\n",
    "prob_pre = lr.predict_proba(X_test)[:,1]"
   ]
  },
  {
   "cell_type": "code",
   "execution_count": 63,
   "metadata": {},
   "outputs": [],
   "source": [
    "dt = DecisionTreeClassifier()\n",
    "dt.fit(X_train, y_train)\n",
    "prob_dt = dt.predict_proba(X_test)[:,1]\n"
   ]
  },
  {
   "attachments": {},
   "cell_type": "markdown",
   "metadata": {},
   "source": [
    "# Project 2"
   ]
  },
  {
   "cell_type": "code",
   "execution_count": 2,
   "metadata": {},
   "outputs": [],
   "source": [
    "import pandas as pd\n",
    "import numpy as np\n",
    "import matplotlib as mpl\n",
    "import matplotlib.pyplot as plt\n",
    "import os\n",
    "import seaborn as sb"
   ]
  },
  {
   "cell_type": "code",
   "execution_count": 10,
   "metadata": {},
   "outputs": [],
   "source": [
    "pd.set_option('display.max_columns', 500)\n",
    "pre = pd.DataFrame(pd.read_csv(\"Pre_Season_Batter.csv\"))\n",
    "regular_day = pd.DataFrame(pd.read_csv(\"Regular_Season_Batter_Day_by_Day_b4.csv\"))\n",
    "regular = pd.DataFrame(pd.read_csv(\"Regular_Season_Batter.csv\"))"
   ]
  },
  {
   "attachments": {},
   "cell_type": "markdown",
   "metadata": {},
   "source": [
    "1. EDA"
   ]
  },
  {
   "cell_type": "code",
   "execution_count": 4,
   "metadata": {},
   "outputs": [
    {
     "data": {
      "text/html": [
       "<div>\n",
       "<style scoped>\n",
       "    .dataframe tbody tr th:only-of-type {\n",
       "        vertical-align: middle;\n",
       "    }\n",
       "\n",
       "    .dataframe tbody tr th {\n",
       "        vertical-align: top;\n",
       "    }\n",
       "\n",
       "    .dataframe thead th {\n",
       "        text-align: right;\n",
       "    }\n",
       "</style>\n",
       "<table border=\"1\" class=\"dataframe\">\n",
       "  <thead>\n",
       "    <tr style=\"text-align: right;\">\n",
       "      <th></th>\n",
       "      <th>batter_name</th>\n",
       "      <th>year</th>\n",
       "      <th>AB</th>\n",
       "      <th>avg</th>\n",
       "      <th>H</th>\n",
       "      <th>2B</th>\n",
       "      <th>3B</th>\n",
       "      <th>SB</th>\n",
       "      <th>HR</th>\n",
       "      <th>position</th>\n",
       "      <th>OPS</th>\n",
       "    </tr>\n",
       "  </thead>\n",
       "  <tbody>\n",
       "    <tr>\n",
       "      <th>1322</th>\n",
       "      <td>이종범</td>\n",
       "      <td>1994</td>\n",
       "      <td>499</td>\n",
       "      <td>0.393</td>\n",
       "      <td>196</td>\n",
       "      <td>27</td>\n",
       "      <td>5</td>\n",
       "      <td>84</td>\n",
       "      <td>19</td>\n",
       "      <td>NaN</td>\n",
       "      <td>1.036198</td>\n",
       "    </tr>\n",
       "  </tbody>\n",
       "</table>\n",
       "</div>"
      ],
      "text/plain": [
       "     batter_name  year   AB    avg    H  2B  3B  SB  HR position       OPS\n",
       "1322         이종범  1994  499  0.393  196  27   5  84  19      NaN  1.036198"
      ]
     },
     "execution_count": 4,
     "metadata": {},
     "output_type": "execute_result"
    }
   ],
   "source": [
    "regular.columns\n",
    "regular['batter_name'].nunique()\n",
    "\n",
    "regular.loc[regular['SB']==84,:]"
   ]
  },
  {
   "cell_type": "code",
   "execution_count": 5,
   "metadata": {},
   "outputs": [
    {
     "data": {
      "text/html": [
       "<div>\n",
       "<style scoped>\n",
       "    .dataframe tbody tr th:only-of-type {\n",
       "        vertical-align: middle;\n",
       "    }\n",
       "\n",
       "    .dataframe tbody tr th {\n",
       "        vertical-align: top;\n",
       "    }\n",
       "\n",
       "    .dataframe thead th {\n",
       "        text-align: right;\n",
       "    }\n",
       "</style>\n",
       "<table border=\"1\" class=\"dataframe\">\n",
       "  <thead>\n",
       "    <tr style=\"text-align: right;\">\n",
       "      <th></th>\n",
       "      <th>year</th>\n",
       "      <th>AB</th>\n",
       "      <th>avg</th>\n",
       "      <th>H</th>\n",
       "      <th>2B</th>\n",
       "      <th>3B</th>\n",
       "      <th>SB</th>\n",
       "      <th>HR</th>\n",
       "      <th>OPS</th>\n",
       "    </tr>\n",
       "  </thead>\n",
       "  <tbody>\n",
       "    <tr>\n",
       "      <th>count</th>\n",
       "      <td>2454.000000</td>\n",
       "      <td>2454.000000</td>\n",
       "      <td>2428.000000</td>\n",
       "      <td>2454.000000</td>\n",
       "      <td>2454.000000</td>\n",
       "      <td>2454.000000</td>\n",
       "      <td>2454.000000</td>\n",
       "      <td>2454.000000</td>\n",
       "      <td>2428.000000</td>\n",
       "    </tr>\n",
       "    <tr>\n",
       "      <th>mean</th>\n",
       "      <td>2011.614507</td>\n",
       "      <td>201.514670</td>\n",
       "      <td>0.237559</td>\n",
       "      <td>55.988183</td>\n",
       "      <td>9.863488</td>\n",
       "      <td>0.957620</td>\n",
       "      <td>5.290139</td>\n",
       "      <td>5.504075</td>\n",
       "      <td>0.649939</td>\n",
       "    </tr>\n",
       "    <tr>\n",
       "      <th>std</th>\n",
       "      <td>4.992833</td>\n",
       "      <td>169.537029</td>\n",
       "      <td>0.098440</td>\n",
       "      <td>52.253844</td>\n",
       "      <td>9.871314</td>\n",
       "      <td>1.647193</td>\n",
       "      <td>9.088580</td>\n",
       "      <td>7.989380</td>\n",
       "      <td>0.261634</td>\n",
       "    </tr>\n",
       "    <tr>\n",
       "      <th>min</th>\n",
       "      <td>1993.000000</td>\n",
       "      <td>0.000000</td>\n",
       "      <td>0.000000</td>\n",
       "      <td>0.000000</td>\n",
       "      <td>0.000000</td>\n",
       "      <td>0.000000</td>\n",
       "      <td>0.000000</td>\n",
       "      <td>0.000000</td>\n",
       "      <td>0.000000</td>\n",
       "    </tr>\n",
       "    <tr>\n",
       "      <th>25%</th>\n",
       "      <td>2008.000000</td>\n",
       "      <td>38.250000</td>\n",
       "      <td>0.203000</td>\n",
       "      <td>8.000000</td>\n",
       "      <td>1.000000</td>\n",
       "      <td>0.000000</td>\n",
       "      <td>0.000000</td>\n",
       "      <td>0.000000</td>\n",
       "      <td>0.546000</td>\n",
       "    </tr>\n",
       "    <tr>\n",
       "      <th>50%</th>\n",
       "      <td>2013.000000</td>\n",
       "      <td>163.000000</td>\n",
       "      <td>0.255000</td>\n",
       "      <td>40.000000</td>\n",
       "      <td>7.000000</td>\n",
       "      <td>0.000000</td>\n",
       "      <td>2.000000</td>\n",
       "      <td>2.000000</td>\n",
       "      <td>0.688637</td>\n",
       "    </tr>\n",
       "    <tr>\n",
       "      <th>75%</th>\n",
       "      <td>2016.000000</td>\n",
       "      <td>357.500000</td>\n",
       "      <td>0.291000</td>\n",
       "      <td>100.000000</td>\n",
       "      <td>16.000000</td>\n",
       "      <td>1.000000</td>\n",
       "      <td>6.000000</td>\n",
       "      <td>8.000000</td>\n",
       "      <td>0.797234</td>\n",
       "    </tr>\n",
       "    <tr>\n",
       "      <th>max</th>\n",
       "      <td>2018.000000</td>\n",
       "      <td>600.000000</td>\n",
       "      <td>1.000000</td>\n",
       "      <td>201.000000</td>\n",
       "      <td>47.000000</td>\n",
       "      <td>17.000000</td>\n",
       "      <td>84.000000</td>\n",
       "      <td>53.000000</td>\n",
       "      <td>4.000000</td>\n",
       "    </tr>\n",
       "  </tbody>\n",
       "</table>\n",
       "</div>"
      ],
      "text/plain": [
       "              year           AB          avg            H           2B  \\\n",
       "count  2454.000000  2454.000000  2428.000000  2454.000000  2454.000000   \n",
       "mean   2011.614507   201.514670     0.237559    55.988183     9.863488   \n",
       "std       4.992833   169.537029     0.098440    52.253844     9.871314   \n",
       "min    1993.000000     0.000000     0.000000     0.000000     0.000000   \n",
       "25%    2008.000000    38.250000     0.203000     8.000000     1.000000   \n",
       "50%    2013.000000   163.000000     0.255000    40.000000     7.000000   \n",
       "75%    2016.000000   357.500000     0.291000   100.000000    16.000000   \n",
       "max    2018.000000   600.000000     1.000000   201.000000    47.000000   \n",
       "\n",
       "                3B           SB           HR          OPS  \n",
       "count  2454.000000  2454.000000  2454.000000  2428.000000  \n",
       "mean      0.957620     5.290139     5.504075     0.649939  \n",
       "std       1.647193     9.088580     7.989380     0.261634  \n",
       "min       0.000000     0.000000     0.000000     0.000000  \n",
       "25%       0.000000     0.000000     0.000000     0.546000  \n",
       "50%       0.000000     2.000000     2.000000     0.688637  \n",
       "75%       1.000000     6.000000     8.000000     0.797234  \n",
       "max      17.000000    84.000000    53.000000     4.000000  "
      ]
     },
     "execution_count": 5,
     "metadata": {},
     "output_type": "execute_result"
    }
   ],
   "source": [
    "regular.describe()"
   ]
  },
  {
   "cell_type": "code",
   "execution_count": 19,
   "metadata": {},
   "outputs": [
    {
     "name": "stderr",
     "output_type": "stream",
     "text": [
      "c:\\Users\\Popperkim\\anaconda3\\lib\\site-packages\\seaborn\\distributions.py:2619: FutureWarning: `distplot` is a deprecated function and will be removed in a future version. Please adapt your code to use either `displot` (a figure-level function with similar flexibility) or `histplot` (an axes-level function for histograms).\n",
      "  warnings.warn(msg, FutureWarning)\n"
     ]
    },
    {
     "data": {
      "text/plain": [
       "<AxesSubplot:xlabel='3B', ylabel='Density'>"
      ]
     },
     "execution_count": 19,
     "metadata": {},
     "output_type": "execute_result"
    },
    {
     "data": {
      "image/png": "[encoded data removed]",
      "text/plain": [
       "<Figure size 640x480 with 1 Axes>"
      ]
     },
     "metadata": {},
     "output_type": "display_data"
    }
   ],
   "source": [
    "sb.distplot(regular['3B'])"
   ]
  },
  {
   "cell_type": "code",
   "execution_count": 31,
   "metadata": {},
   "outputs": [
    {
     "data": {
      "text/plain": [
       "Text(0, 0.5, '3B')"
      ]
     },
     "execution_count": 31,
     "metadata": {},
     "output_type": "execute_result"
    },
    {
     "data": {
      "image/png": "[encoded data removed]",
      "text/plain": [
       "<Figure size 640x480 with 1 Axes>"
      ]
     },
     "metadata": {},
     "output_type": "display_data"
    }
   ],
   "source": [
    "%matplotlib inline\n",
    "plt.scatter(regular['SB'],regular['3B'])\n",
    "plt.xlabel('SB')\n",
    "plt.ylabel('3B')"
   ]
  },
  {
   "cell_type": "code",
   "execution_count": 32,
   "metadata": {},
   "outputs": [
    {
     "data": {
      "text/plain": [
       "Text(0, 0.5, 'OPS')"
      ]
     },
     "execution_count": 32,
     "metadata": {},
     "output_type": "execute_result"
    },
    {
     "data": {
      "image/png": "[encoded data removed]",
      "text/plain": [
       "<Figure size 640x480 with 1 Axes>"
      ]
     },
     "metadata": {},
     "output_type": "display_data"
    }
   ],
   "source": [
    "plt.scatter(regular['H'],regular['OPS'])\n",
    "plt.xlabel('H')\n",
    "plt.ylabel('OPS')"
   ]
  },
  {
   "cell_type": "code",
   "execution_count": 13,
   "metadata": {},
   "outputs": [
    {
     "data": {
      "text/html": [
       "<div>\n",
       "<style scoped>\n",
       "    .dataframe tbody tr th:only-of-type {\n",
       "        vertical-align: middle;\n",
       "    }\n",
       "\n",
       "    .dataframe tbody tr th {\n",
       "        vertical-align: top;\n",
       "    }\n",
       "\n",
       "    .dataframe thead th {\n",
       "        text-align: right;\n",
       "    }\n",
       "</style>\n",
       "<table border=\"1\" class=\"dataframe\">\n",
       "  <thead>\n",
       "    <tr style=\"text-align: right;\">\n",
       "      <th></th>\n",
       "      <th>AB</th>\n",
       "      <th>OPS</th>\n",
       "    </tr>\n",
       "    <tr>\n",
       "      <th>position</th>\n",
       "      <th></th>\n",
       "      <th></th>\n",
       "    </tr>\n",
       "  </thead>\n",
       "  <tbody>\n",
       "    <tr>\n",
       "      <th>내야수(우투양타)</th>\n",
       "      <td>25.142857</td>\n",
       "      <td>0.275000</td>\n",
       "    </tr>\n",
       "    <tr>\n",
       "      <th>내야수(우투우타)</th>\n",
       "      <td>229.539658</td>\n",
       "      <td>0.674866</td>\n",
       "    </tr>\n",
       "    <tr>\n",
       "      <th>내야수(우투좌타)</th>\n",
       "      <td>183.092199</td>\n",
       "      <td>0.642086</td>\n",
       "    </tr>\n",
       "    <tr>\n",
       "      <th>내야수(좌투좌타)</th>\n",
       "      <td>271.027778</td>\n",
       "      <td>0.748972</td>\n",
       "    </tr>\n",
       "    <tr>\n",
       "      <th>외야수(우투양타)</th>\n",
       "      <td>169.571429</td>\n",
       "      <td>0.697714</td>\n",
       "    </tr>\n",
       "    <tr>\n",
       "      <th>외야수(우투우타)</th>\n",
       "      <td>205.665217</td>\n",
       "      <td>0.665179</td>\n",
       "    </tr>\n",
       "    <tr>\n",
       "      <th>외야수(우투좌타)</th>\n",
       "      <td>250.141304</td>\n",
       "      <td>0.685956</td>\n",
       "    </tr>\n",
       "    <tr>\n",
       "      <th>외야수(좌투좌타)</th>\n",
       "      <td>259.388060</td>\n",
       "      <td>0.656005</td>\n",
       "    </tr>\n",
       "    <tr>\n",
       "      <th>포수(우투우타)</th>\n",
       "      <td>142.417989</td>\n",
       "      <td>0.613227</td>\n",
       "    </tr>\n",
       "    <tr>\n",
       "      <th>포수(우투좌타)</th>\n",
       "      <td>120.142857</td>\n",
       "      <td>0.592643</td>\n",
       "    </tr>\n",
       "  </tbody>\n",
       "</table>\n",
       "</div>"
      ],
      "text/plain": [
       "                   AB       OPS\n",
       "position                       \n",
       "내야수(우투양타)   25.142857  0.275000\n",
       "내야수(우투우타)  229.539658  0.674866\n",
       "내야수(우투좌타)  183.092199  0.642086\n",
       "내야수(좌투좌타)  271.027778  0.748972\n",
       "외야수(우투양타)  169.571429  0.697714\n",
       "외야수(우투우타)  205.665217  0.665179\n",
       "외야수(우투좌타)  250.141304  0.685956\n",
       "외야수(좌투좌타)  259.388060  0.656005\n",
       "포수(우투우타)   142.417989  0.613227\n",
       "포수(우투좌타)   120.142857  0.592643"
      ]
     },
     "execution_count": 13,
     "metadata": {},
     "output_type": "execute_result"
    }
   ],
   "source": [
    "regular.groupby(['position'])[['AB', 'OPS']].mean()"
   ]
  },
  {
   "attachments": {},
   "cell_type": "markdown",
   "metadata": {},
   "source": [
    "2. 데이터 잘라내기"
   ]
  },
  {
   "cell_type": "code",
   "execution_count": 9,
   "metadata": {},
   "outputs": [
    {
     "name": "stdout",
     "output_type": "stream",
     "text": [
      "0.902\n",
      "0.7597333333333334\n",
      "0.6446486591777418\n",
      "0.7633809966284072\n",
      "1.0483333333333331\n",
      "0.6694658120155738\n",
      "0.6444898261665719\n",
      "0.93825\n",
      "0.8464714743473788\n",
      "0.9006666666666666\n",
      "0.741\n",
      "0.7201987380725924\n",
      "0.625\n",
      "0.6128333333333333\n",
      "0.8989901037609803\n",
      "0.7374\n",
      "0.7163636363636363\n",
      "0.5356\n",
      "0.7467\n",
      "0.7333000000000001\n",
      "0.733\n",
      "0.756\n",
      "0.9830226971340719\n",
      "1.0\n",
      "0.73\n",
      "0.9513750000000001\n",
      "0.7961818181818181\n",
      "0.6213333333333334\n",
      "0.8157272727272727\n",
      "0.9068333333333333\n",
      "0.6867857142857143\n",
      "0.8686363636363638\n",
      "0.9944999999999999\n",
      "0.9495\n",
      "1.0203059561240606\n",
      "0.9445\n",
      "0.9046\n",
      "0.7525714285714286\n",
      "0.730857142857143\n",
      "0.8014999999999999\n",
      "0.8752000000000001\n",
      "0.8494615384615384\n",
      "0.8235294117647056\n",
      "0.7523846153846154\n",
      "0.67225\n",
      "0.7553333333333333\n",
      "0.6925714285714285\n",
      "0.897\n",
      "1.122\n",
      "0.71\n",
      "0.8250833333333332\n",
      "0.7534545454545456\n",
      "0.8154307132908365\n",
      "0.9115\n",
      "0.5332151087966126\n",
      "0.7782222222222223\n",
      "0.7609\n",
      "0.6946363636363636\n",
      "0.6780920960321738\n",
      "0.76925\n",
      "0.5144444444444444\n",
      "0.8127764141126859\n",
      "0.7796666666666666\n",
      "0.60425\n",
      "0.7881288041532402\n",
      "0.6888550283002757\n",
      "0.415375\n",
      "0.9205384615384615\n",
      "0.7891111111111111\n",
      "0.7156666666666668\n",
      "0.7000625\n",
      "0.551850342341564\n",
      "0.7421538461538462\n",
      "0.8114166666666667\n",
      "0.6960000000000001\n",
      "0.7353499999999998\n",
      "0.7726666666666667\n",
      "0.8068750000000001\n",
      "0.3858888888888889\n",
      "0.6850488711788013\n",
      "0.8111407384523416\n",
      "1.048\n",
      "0.7597\n",
      "0.7901428571428573\n",
      "0.5551999999999999\n",
      "0.6896666666666668\n",
      "0.7262000000000001\n",
      "0.7294166666666668\n",
      "0.6705\n",
      "0.7244444444444446\n",
      "0.7026764147509337\n",
      "0.7351700110966584\n",
      "0.634\n",
      "0.669623562281531\n",
      "0.5508329767962297\n",
      "0.8317692307692307\n",
      "0.5043672123024877\n",
      "0.7766\n",
      "0.7950833333333335\n",
      "0.9169999999999999\n",
      "0.5226737230318469\n",
      "0.5087142857142857\n",
      "0.8613333333333332\n",
      "0.8887142857142857\n",
      "0.5881818181818181\n",
      "0.7833125000000001\n",
      "0.6739230769230768\n",
      "0.9003076923076923\n",
      "0.9004349711719986\n",
      "1.1737192703176211\n",
      "0.9063115550006936\n",
      "0.7913333333333333\n",
      "0.6192793914886243\n",
      "0.942\n",
      "0.796899794163297\n",
      "0.7751818181818183\n"
     ]
    },
    {
     "data": {
      "text/plain": [
       "Index(['batter_name', 'year', 'AB', 'avg', 'H', '2B', '3B', 'SB', 'HR',\n",
       "       'position', 'OPS', 'lag_1_OPS', 'lag_1_avg'],\n",
       "      dtype='object')"
      ]
     },
     "execution_count": 9,
     "metadata": {},
     "output_type": "execute_result"
    }
   ],
   "source": [
    "ops_king = regular.loc[regular[\"OPS\"]>0.9,:][\"batter_name\"].unique()\n",
    "for i in ops_king :\n",
    "    print(regular.loc[regular[\"batter_name\"]==i][\"OPS\"].mean())\n",
    "regular.columns"
   ]
  },
  {
   "attachments": {},
   "cell_type": "markdown",
   "metadata": {},
   "source": [
    "Feature Engineering\n",
    "- Time Series => lag"
   ]
  },
  {
   "cell_type": "code",
   "execution_count": 7,
   "metadata": {},
   "outputs": [],
   "source": [
    "lag_1_OPS = []\n",
    "for i in range(len(regular)) :\n",
    "    x = regular.loc[(regular['batter_name']==regular['batter_name'].iloc[i])&(regular['year']==regular['year'].iloc[i]-1)]['OPS']\n",
    "    if len(x) == 0 :\n",
    "        lag_1_OPS.append(np.nan)\n",
    "    else :\n",
    "        lag_1_OPS.append(x)\n",
    "\n",
    "regular['lag_1_OPS'] = lag_1_OPS\n",
    "\n",
    "lag_1_avg = []\n",
    "for i in range(len(regular)) :\n",
    "    x = regular.loc[(regular['batter_name']==regular['batter_name'].iloc[i])&(regular['year']==regular['year'].iloc[i]-1)]['avg']\n",
    "    if len(x) == 0 :\n",
    "        lag_1_avg.append(np.nan)\n",
    "    else :\n",
    "        lag_1_avg.append(x)\n",
    "\n",
    "regular['lag_1_avg'] = lag_1_avg"
   ]
  },
  {
   "cell_type": "code",
   "execution_count": 11,
   "metadata": {},
   "outputs": [
    {
     "data": {
      "text/plain": [
       "Index(['batter_id', 'batter_name', 'year', 'team', 'avg', 'G', 'AB', 'R', 'H',\n",
       "       '2B', '3B', 'HR', 'TB', 'RBI', 'SB', 'CS', 'BB', 'HBP', 'SO', 'GDP',\n",
       "       'SLG', 'OBP', 'E', 'height/weight', 'year_born', 'position', 'career',\n",
       "       'starting_salary', 'OPS', 'lag_1_avg', 'lag_1_G', 'lag_1_AB', 'lag_1_R',\n",
       "       'lag_1_H', 'lag_1_2B', 'lag_1_3B', 'lag_1_HR', 'lag_1_TB', 'lag_1_RBI',\n",
       "       'lag_1_SB', 'lag_1_CS', 'lag_1_BB', 'lag_1_HBP', 'lag_1_SO',\n",
       "       'lag_1_GDP', 'lag_1_SLG', 'lag_1_OBP', 'lag_1_E'],\n",
       "      dtype='object')"
      ]
     },
     "execution_count": 11,
     "metadata": {},
     "output_type": "execute_result"
    }
   ],
   "source": [
    "for j in ['avg','G', 'AB', 'R', 'H','2B', '3B', 'HR', 'TB', 'RBI', 'SB', 'CS', 'BB', 'HBP', 'SO', 'GDP','SLG', 'OBP', 'E'] :\n",
    "    lag_1 = []\n",
    "    for i in range(len(regular)) : \n",
    "        x = regular.loc[(regular['batter_name']==regular['batter_name'].iloc[i])&(regular['year']==regular['year'].iloc[i]-1)][j].astype('float32')\n",
    "        if len(x) == 0 :\n",
    "            lag_1.append(np.nan)\n",
    "        else :\n",
    "            lag_1.append(x)\n",
    "\n",
    "    regular['lag_1_'+j] = lag_1\n",
    "\n",
    "regular.columns"
   ]
  },
  {
   "cell_type": "code",
   "execution_count": 97,
   "metadata": {},
   "outputs": [],
   "source": [
    "regular = regular.loc[ ~ regular[\"OPS\"].isnull(),] # type: ignore"
   ]
  },
  {
   "attachments": {},
   "cell_type": "markdown",
   "metadata": {},
   "source": [
    "3. 모델 만들기"
   ]
  },
  {
   "cell_type": "code",
   "execution_count": 83,
   "metadata": {},
   "outputs": [],
   "source": [
    "from sklearn.ensemble import RandomForestRegressor"
   ]
  },
  {
   "cell_type": "code",
   "execution_count": 98,
   "metadata": {},
   "outputs": [
    {
     "data": {
      "text/plain": [
       "3    80.0\n",
       "Name: H, dtype: float32"
      ]
     },
     "execution_count": 98,
     "metadata": {},
     "output_type": "execute_result"
    }
   ],
   "source": [
    "y = regular['OPS']\n",
    "x = regular[['lag_1_avg', 'lag_1_G', 'lag_1_AB', 'lag_1_R',\n",
    "       'lag_1_H', 'lag_1_2B', 'lag_1_3B', 'lag_1_HR', 'lag_1_TB', 'lag_1_RBI',\n",
    "       'lag_1_SB', 'lag_1_CS', 'lag_1_BB', 'lag_1_HBP', 'lag_1_SO',\n",
    "       'lag_1_GDP', 'lag_1_SLG', 'lag_1_OBP', 'lag_1_E']]"
   ]
  },
  {
   "cell_type": "code",
   "execution_count": 84,
   "metadata": {},
   "outputs": [],
   "source": [
    "rf = RandomForestRegressor(n_estimators=500)"
   ]
  },
  {
   "cell_type": "code",
   "execution_count": 108,
   "metadata": {},
   "outputs": [
    {
     "data": {
      "text/plain": [
       "RandomForestRegressor(n_estimators=500)"
      ]
     },
     "execution_count": 108,
     "metadata": {},
     "output_type": "execute_result"
    }
   ],
   "source": [
    "train = regular.loc[regular['year']<=2017,]\n",
    "test = regular.loc[regular['year']>2017,]\n",
    "\n",
    "y_train = train['OPS']\n",
    "x_train = train[['lag_1_avg', 'lag_1_G', 'lag_1_AB', 'lag_1_R',\n",
    "       'lag_1_H', 'lag_1_2B', 'lag_1_3B', 'lag_1_HR', 'lag_1_TB', 'lag_1_RBI',\n",
    "       'lag_1_SB', 'lag_1_CS', 'lag_1_BB', 'lag_1_HBP', 'lag_1_SO',\n",
    "       'lag_1_GDP', 'lag_1_SLG', 'lag_1_OBP', 'lag_1_E']]\n",
    "\n",
    "x_test = test[['lag_1_avg', 'lag_1_G', 'lag_1_AB', 'lag_1_R',\n",
    "       'lag_1_H', 'lag_1_2B', 'lag_1_3B', 'lag_1_HR', 'lag_1_TB', 'lag_1_RBI',\n",
    "       'lag_1_SB', 'lag_1_CS', 'lag_1_BB', 'lag_1_HBP', 'lag_1_SO',\n",
    "       'lag_1_GDP', 'lag_1_SLG', 'lag_1_OBP', 'lag_1_E']]\n",
    "\n",
    "rf.fit(x_train.fillna(-1),y_train, sample_weight=train['AB'])"
   ]
  },
  {
   "cell_type": "code",
   "execution_count": 110,
   "metadata": {},
   "outputs": [],
   "source": [
    "pred = rf.predict(x_test.fillna(-1))\n",
    "real = test['OPS']\n",
    "ab = test['AB']"
   ]
  },
  {
   "cell_type": "code",
   "execution_count": 99,
   "metadata": {},
   "outputs": [
    {
     "ename": "NameError",
     "evalue": "name 'real' is not defined",
     "output_type": "error",
     "traceback": [
      "\u001b[1;31m---------------------------------------------------------------------------\u001b[0m",
      "\u001b[1;31mNameError\u001b[0m                                 Traceback (most recent call last)",
      "\u001b[1;32m~\\AppData\\Local\\Temp\\ipykernel_10424\\1194450058.py\u001b[0m in \u001b[0;36m<module>\u001b[1;34m\u001b[0m\n\u001b[0;32m      1\u001b[0m \u001b[1;32mfrom\u001b[0m \u001b[0msklearn\u001b[0m\u001b[1;33m.\u001b[0m\u001b[0mmetrics\u001b[0m \u001b[1;32mimport\u001b[0m \u001b[0mmean_squared_error\u001b[0m\u001b[1;33m\u001b[0m\u001b[1;33m\u001b[0m\u001b[0m\n\u001b[1;32m----> 2\u001b[1;33m \u001b[0mmean_squared_error\u001b[0m\u001b[1;33m(\u001b[0m\u001b[0mreal\u001b[0m\u001b[1;33m,\u001b[0m \u001b[0mpred\u001b[0m\u001b[1;33m,\u001b[0m \u001b[0msample_weight\u001b[0m\u001b[1;33m=\u001b[0m\u001b[0mab\u001b[0m\u001b[1;33m)\u001b[0m\u001b[1;33m**\u001b[0m\u001b[1;36m0.5\u001b[0m\u001b[1;33m\u001b[0m\u001b[1;33m\u001b[0m\u001b[0m\n\u001b[0m",
      "\u001b[1;31mNameError\u001b[0m: name 'real' is not defined"
     ]
    }
   ],
   "source": [
    "from sklearn.metrics import mean_squared_error\n",
    "mean_squared_error(real, pred, sample_weight=ab)**0.5"
   ]
  },
  {
   "attachments": {},
   "cell_type": "markdown",
   "metadata": {},
   "source": [
    "4. 데이터 이해 심화"
   ]
  },
  {
   "cell_type": "code",
   "execution_count": 42,
   "metadata": {},
   "outputs": [],
   "source": [
    "regular1 = regular.loc[regular['AB']>=100,]\n",
    "\n",
    "def get_self_corr(var) : \n",
    "    x = []\n",
    "    y = []\n",
    "\n",
    "    for name in regular1['batter_name'].unique() :\n",
    "        a = regular1.loc[regular1['batter_name']==name,]\n",
    "        k = []\n",
    "        for i in a['year'].unique() :\n",
    "            if (a['year']==i+1).sum() > 0:\n",
    "                k.append(i)\n",
    "        for i in k :\n",
    "            x.append(a.loc[a['year']==i,var].iloc[0])\n",
    "            y.append(a.loc[a['year']==i+1,var].iloc[0])\n",
    "\n",
    "    return pd.Series(x).corr(pd.Series(y))"
   ]
  },
  {
   "cell_type": "code",
   "execution_count": 31,
   "metadata": {},
   "outputs": [],
   "source": [
    "agg = {}\n",
    "for i in ['avg','G', 'AB', 'R', 'H','2B', '3B', 'HR', 'TB', 'RBI', 'SB', 'CS', 'BB', 'HBP', 'SO', 'GDP','SLG', 'OBP', 'E'] :\n",
    "    agg[i] = get_self_corr(i)"
   ]
  },
  {
   "cell_type": "code",
   "execution_count": 35,
   "metadata": {},
   "outputs": [
    {
     "data": {
      "text/html": [
       "<div>\n",
       "<style scoped>\n",
       "    .dataframe tbody tr th:only-of-type {\n",
       "        vertical-align: middle;\n",
       "    }\n",
       "\n",
       "    .dataframe tbody tr th {\n",
       "        vertical-align: top;\n",
       "    }\n",
       "\n",
       "    .dataframe thead th {\n",
       "        text-align: right;\n",
       "    }\n",
       "</style>\n",
       "<table border=\"1\" class=\"dataframe\">\n",
       "  <thead>\n",
       "    <tr style=\"text-align: right;\">\n",
       "      <th></th>\n",
       "      <th>avg</th>\n",
       "      <th>G</th>\n",
       "      <th>AB</th>\n",
       "      <th>R</th>\n",
       "      <th>H</th>\n",
       "      <th>2B</th>\n",
       "      <th>3B</th>\n",
       "      <th>HR</th>\n",
       "      <th>TB</th>\n",
       "      <th>RBI</th>\n",
       "      <th>SB</th>\n",
       "      <th>CS</th>\n",
       "      <th>BB</th>\n",
       "      <th>HBP</th>\n",
       "      <th>SO</th>\n",
       "      <th>GDP</th>\n",
       "      <th>SLG</th>\n",
       "      <th>OBP</th>\n",
       "      <th>E</th>\n",
       "    </tr>\n",
       "  </thead>\n",
       "  <tbody>\n",
       "    <tr>\n",
       "      <th>data</th>\n",
       "      <td>0.424068</td>\n",
       "      <td>0.282795</td>\n",
       "      <td>0.534522</td>\n",
       "      <td>0.622621</td>\n",
       "      <td>0.578043</td>\n",
       "      <td>0.515062</td>\n",
       "      <td>0.44088</td>\n",
       "      <td>0.74126</td>\n",
       "      <td>0.634394</td>\n",
       "      <td>0.651947</td>\n",
       "      <td>0.726076</td>\n",
       "      <td>0.573214</td>\n",
       "      <td>0.653753</td>\n",
       "      <td>0.562792</td>\n",
       "      <td>0.566403</td>\n",
       "      <td>0.490222</td>\n",
       "      <td>0.613934</td>\n",
       "      <td>0.545262</td>\n",
       "      <td>0.62256</td>\n",
       "    </tr>\n",
       "  </tbody>\n",
       "</table>\n",
       "</div>"
      ],
      "text/plain": [
       "           avg         G        AB         R         H        2B       3B  \\\n",
       "data  0.424068  0.282795  0.534522  0.622621  0.578043  0.515062  0.44088   \n",
       "\n",
       "           HR        TB       RBI        SB        CS        BB       HBP  \\\n",
       "data  0.74126  0.634394  0.651947  0.726076  0.573214  0.653753  0.562792   \n",
       "\n",
       "            SO       GDP       SLG       OBP        E  \n",
       "data  0.566403  0.490222  0.613934  0.545262  0.62256  "
      ]
     },
     "execution_count": 35,
     "metadata": {},
     "output_type": "execute_result"
    }
   ],
   "source": [
    "pd.DataFrame(agg, index=['data'])"
   ]
  },
  {
   "cell_type": "code",
   "execution_count": 37,
   "metadata": {},
   "outputs": [
    {
     "data": {
      "text/plain": [
       "0.24874371859296482"
      ]
     },
     "execution_count": 37,
     "metadata": {},
     "output_type": "execute_result"
    }
   ],
   "source": [
    "regular.loc[(regular['batter_name']=='강경학')&(regular['year']<2016),'H'].sum()/regular.loc[(regular['batter_name']=='강경학')&(regular['year']<2016),'AB'].sum()"
   ]
  },
  {
   "cell_type": "code",
   "execution_count": 91,
   "metadata": {},
   "outputs": [
    {
     "name": "stderr",
     "output_type": "stream",
     "text": [
      "C:\\Users\\Popperkim\\AppData\\Local\\Temp\\ipykernel_10424\\2529319183.py:7: RuntimeWarning: invalid value encountered in double_scalars\n",
      "  total_avg.append(((a['avg']*a['AB']).sum()/a['AB'].sum()))\n",
      "C:\\Users\\Popperkim\\AppData\\Local\\Temp\\ipykernel_10424\\2529319183.py:8: RuntimeWarning: invalid value encountered in longlong_scalars\n",
      "  total_3B.append(a['3B'].sum()/a['AB'].sum())\n",
      "C:\\Users\\Popperkim\\AppData\\Local\\Temp\\ipykernel_10424\\2529319183.py:9: RuntimeWarning: invalid value encountered in longlong_scalars\n",
      "  total_H.append(a['H'].sum()/a['AB'].sum())\n"
     ]
    }
   ],
   "source": [
    "total_avg = []\n",
    "total_3B = []\n",
    "total_H = []\n",
    "\n",
    "for i in range(len(regular1)) :\n",
    "    a = regular1.loc[(regular1['batter_name']==regular1['batter_name'].iloc[i])&(regular1['year']<regular1['year'].iloc[i])]\n",
    "    total_avg.append(((a['avg']*a['AB']).sum()/a['AB'].sum()))\n",
    "    total_3B.append(a['3B'].sum()/a['AB'].sum())\n",
    "    total_H.append(a['H'].sum()/a['AB'].sum())"
   ]
  },
  {
   "cell_type": "code",
   "execution_count": 92,
   "metadata": {},
   "outputs": [
    {
     "name": "stderr",
     "output_type": "stream",
     "text": [
      "C:\\Users\\Popperkim\\AppData\\Local\\Temp\\ipykernel_10424\\949072814.py:1: SettingWithCopyWarning: \n",
      "A value is trying to be set on a copy of a slice from a DataFrame.\n",
      "Try using .loc[row_indexer,col_indexer] = value instead\n",
      "\n",
      "See the caveats in the documentation: https://pandas.pydata.org/pandas-docs/stable/user_guide/indexing.html#returning-a-view-versus-a-copy\n",
      "  regular1['total_avg'] = total_avg\n",
      "C:\\Users\\Popperkim\\AppData\\Local\\Temp\\ipykernel_10424\\949072814.py:2: SettingWithCopyWarning: \n",
      "A value is trying to be set on a copy of a slice from a DataFrame.\n",
      "Try using .loc[row_indexer,col_indexer] = value instead\n",
      "\n",
      "See the caveats in the documentation: https://pandas.pydata.org/pandas-docs/stable/user_guide/indexing.html#returning-a-view-versus-a-copy\n",
      "  regular1['total_3B'] = total_3B\n",
      "C:\\Users\\Popperkim\\AppData\\Local\\Temp\\ipykernel_10424\\949072814.py:3: SettingWithCopyWarning: \n",
      "A value is trying to be set on a copy of a slice from a DataFrame.\n",
      "Try using .loc[row_indexer,col_indexer] = value instead\n",
      "\n",
      "See the caveats in the documentation: https://pandas.pydata.org/pandas-docs/stable/user_guide/indexing.html#returning-a-view-versus-a-copy\n",
      "  regular1['total_H'] = total_H\n"
     ]
    }
   ],
   "source": [
    "regular1['total_avg'] = total_avg\n",
    "regular1['total_3B'] = total_3B\n",
    "regular1['total_H'] = total_H"
   ]
  },
  {
   "cell_type": "code",
   "execution_count": 94,
   "metadata": {},
   "outputs": [
    {
     "data": {
      "text/plain": [
       "RandomForestRegressor(n_estimators=500)"
      ]
     },
     "execution_count": 94,
     "metadata": {},
     "output_type": "execute_result"
    }
   ],
   "source": [
    "train = regular1.loc[regular1['year']<=2017,]\n",
    "test = regular1.loc[regular1['year']>2017,]\n",
    "\n",
    "y_train = train['OPS']\n",
    "x_train = train[[\"total_avg\", \"total_3B\", \"total_H\"]]\n",
    "\n",
    "x_test = test[[\"total_avg\", \"total_3B\", \"total_H\"]]\n",
    "\n",
    "rf.fit(x_train.fillna(-1),y_train)"
   ]
  },
  {
   "cell_type": "code",
   "execution_count": 101,
   "metadata": {},
   "outputs": [
    {
     "data": {
      "text/plain": [
       "0.12715170275935503"
      ]
     },
     "execution_count": 101,
     "metadata": {},
     "output_type": "execute_result"
    }
   ],
   "source": [
    "real2 = test['OPS']\n",
    "pred2 = rf.predict(x_test.fillna(-1))\n",
    "mean_squared_error(real2, pred2)**0.5"
   ]
  }
 ],
 "metadata": {
  "kernelspec": {
   "display_name": "base",
   "language": "python",
   "name": "python3"
  },
  "language_info": {
   "codemirror_mode": {
    "name": "ipython",
    "version": 3
   },
   "file_extension": ".py",
   "mimetype": "text/x-python",
   "name": "python",
   "nbconvert_exporter": "python",
   "pygments_lexer": "ipython3",
   "version": "3.9.13"
  },
  "orig_nbformat": 4
 },
 "nbformat": 4,
 "nbformat_minor": 2
}
